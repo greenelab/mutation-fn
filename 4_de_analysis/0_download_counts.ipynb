{
 "cells": [
  {
   "cell_type": "markdown",
   "metadata": {},
   "source": [
    "## Download pan-cancer RNA-seq read counts data from UCSC Xena Browser\n",
    "\n",
    "The other RNA-seq data we downloaded in `0_data_download` contains pre-processed RPKM values. In order to do differential expression analysis, most methods recommend using count data, or something similar such as [RSEM expected counts](https://support.bioconductor.org/p/90672/#90678) (which is what we'll download here).\n",
    "\n",
    "GDC does not seem to store RNA-seq read counts (that I'm aware of), so we'll download it from the UCSC Xena Browser instead. This data was generated as part of the Pan-Cancer Atlas project so it should apply to the same set of samples."
   ]
  },
  {
   "cell_type": "code",
   "execution_count": 1,
   "metadata": {},
   "outputs": [],
   "source": [
    "import pandas as pd\n",
    "# from urllib.request import urlretrieve\n",
    "\n",
    "import sys; sys.path.append('..')\n",
    "import config as cfg\n",
    "\n",
    "cfg.de_data_dir.mkdir(parents=True, exist_ok=True)\n",
    "cfg.raw_de_data_dir.mkdir(parents=True, exist_ok=True)"
   ]
  },
  {
   "cell_type": "code",
   "execution_count": 2,
   "metadata": {},
   "outputs": [
    {
     "name": "stdout",
     "output_type": "stream",
     "text": [
      "Loading from existing raw data file\n"
     ]
    },
    {
     "data": {
      "text/html": [
       "<div>\n",
       "<style scoped>\n",
       "    .dataframe tbody tr th:only-of-type {\n",
       "        vertical-align: middle;\n",
       "    }\n",
       "\n",
       "    .dataframe tbody tr th {\n",
       "        vertical-align: top;\n",
       "    }\n",
       "\n",
       "    .dataframe thead th {\n",
       "        text-align: right;\n",
       "    }\n",
       "</style>\n",
       "<table border=\"1\" class=\"dataframe\">\n",
       "  <thead>\n",
       "    <tr style=\"text-align: right;\">\n",
       "      <th></th>\n",
       "      <th>sample</th>\n",
       "      <th>TCGA-19-1787-01</th>\n",
       "      <th>TCGA-S9-A7J2-01</th>\n",
       "      <th>TCGA-G3-A3CH-11</th>\n",
       "      <th>TCGA-EK-A2RE-01</th>\n",
       "    </tr>\n",
       "  </thead>\n",
       "  <tbody>\n",
       "    <tr>\n",
       "      <th>0</th>\n",
       "      <td>ENSG00000242268.2</td>\n",
       "      <td>0.0000</td>\n",
       "      <td>4.6439</td>\n",
       "      <td>0.0000</td>\n",
       "      <td>0.0000</td>\n",
       "    </tr>\n",
       "    <tr>\n",
       "      <th>1</th>\n",
       "      <td>ENSG00000259041.1</td>\n",
       "      <td>0.0000</td>\n",
       "      <td>0.0000</td>\n",
       "      <td>0.0000</td>\n",
       "      <td>0.0000</td>\n",
       "    </tr>\n",
       "    <tr>\n",
       "      <th>2</th>\n",
       "      <td>ENSG00000270112.3</td>\n",
       "      <td>2.0000</td>\n",
       "      <td>2.8074</td>\n",
       "      <td>0.0000</td>\n",
       "      <td>0.0000</td>\n",
       "    </tr>\n",
       "    <tr>\n",
       "      <th>3</th>\n",
       "      <td>ENSG00000167578.16</td>\n",
       "      <td>10.3835</td>\n",
       "      <td>9.9144</td>\n",
       "      <td>8.9539</td>\n",
       "      <td>10.0543</td>\n",
       "    </tr>\n",
       "    <tr>\n",
       "      <th>4</th>\n",
       "      <td>ENSG00000278814.1</td>\n",
       "      <td>0.0000</td>\n",
       "      <td>0.0000</td>\n",
       "      <td>0.0000</td>\n",
       "      <td>0.0000</td>\n",
       "    </tr>\n",
       "  </tbody>\n",
       "</table>\n",
       "</div>"
      ],
      "text/plain": [
       "               sample  TCGA-19-1787-01  TCGA-S9-A7J2-01  TCGA-G3-A3CH-11  \\\n",
       "0   ENSG00000242268.2           0.0000           4.6439           0.0000   \n",
       "1   ENSG00000259041.1           0.0000           0.0000           0.0000   \n",
       "2   ENSG00000270112.3           2.0000           2.8074           0.0000   \n",
       "3  ENSG00000167578.16          10.3835           9.9144           8.9539   \n",
       "4   ENSG00000278814.1           0.0000           0.0000           0.0000   \n",
       "\n",
       "   TCGA-EK-A2RE-01  \n",
       "0           0.0000  \n",
       "1           0.0000  \n",
       "2           0.0000  \n",
       "3          10.0543  \n",
       "4           0.0000  "
      ]
     },
     "execution_count": 2,
     "metadata": {},
     "output_type": "execute_result"
    }
   ],
   "source": [
    "base_url = 'https://toil-xena-hub.s3.us-east-1.amazonaws.com/download/'\n",
    "filename = 'tcga_gene_expected_count'\n",
    "\n",
    "url = base_url + filename + '.gz'\n",
    "output_filename = cfg.raw_de_data_dir / (filename + '.tsv.gz')\n",
    "\n",
    "if not output_filename.is_file():\n",
    "    print('Raw data file does not exist, downloading...')\n",
    "    counts_df = pd.read_csv(url, sep='\\t')\n",
    "    counts_df.to_csv(output_filename, sep='\\t')\n",
    "else:\n",
    "    print('Loading from existing raw data file')\n",
    "    counts_df = pd.read_csv(output_filename, sep='\\t', index_col=0)\n",
    "    \n",
    "counts_df.iloc[:5, :5]"
   ]
  },
  {
   "cell_type": "markdown",
   "metadata": {},
   "source": [
    "## Process counts matrix"
   ]
  },
  {
   "cell_type": "code",
   "execution_count": 3,
   "metadata": {},
   "outputs": [
    {
     "name": "stdout",
     "output_type": "stream",
     "text": [
      "(60498, 10531)\n"
     ]
    }
   ],
   "source": [
    "print(counts_df.shape)\n",
    "\n",
    "counts_df = (counts_df\n",
    "    .set_index('sample')\n",
    "    .dropna(axis='rows')\n",
    "    .transpose()\n",
    "    .sort_index(axis='rows')\n",
    "    .sort_index(axis='columns')\n",
    ")\n",
    "\n",
    "counts_df.index.rename('sample_id', inplace=True)\n",
    "counts_df.columns.name = None"
   ]
  },
  {
   "cell_type": "code",
   "execution_count": 4,
   "metadata": {},
   "outputs": [
    {
     "data": {
      "text/html": [
       "<div>\n",
       "<style scoped>\n",
       "    .dataframe tbody tr th:only-of-type {\n",
       "        vertical-align: middle;\n",
       "    }\n",
       "\n",
       "    .dataframe tbody tr th {\n",
       "        vertical-align: top;\n",
       "    }\n",
       "\n",
       "    .dataframe thead th {\n",
       "        text-align: right;\n",
       "    }\n",
       "</style>\n",
       "<table border=\"1\" class=\"dataframe\">\n",
       "  <thead>\n",
       "    <tr style=\"text-align: right;\">\n",
       "      <th></th>\n",
       "      <th>ENSG00000000003.14</th>\n",
       "      <th>ENSG00000000005.5</th>\n",
       "      <th>ENSG00000000419.12</th>\n",
       "      <th>ENSG00000000457.13</th>\n",
       "      <th>ENSG00000000460.16</th>\n",
       "    </tr>\n",
       "    <tr>\n",
       "      <th>sample_id</th>\n",
       "      <th></th>\n",
       "      <th></th>\n",
       "      <th></th>\n",
       "      <th></th>\n",
       "      <th></th>\n",
       "    </tr>\n",
       "  </thead>\n",
       "  <tbody>\n",
       "    <tr>\n",
       "      <th>TCGA-02-0047-01</th>\n",
       "      <td>11.0587</td>\n",
       "      <td>1.0000</td>\n",
       "      <td>9.1111</td>\n",
       "      <td>8.5989</td>\n",
       "      <td>8.0783</td>\n",
       "    </tr>\n",
       "    <tr>\n",
       "      <th>TCGA-02-0055-01</th>\n",
       "      <td>11.3393</td>\n",
       "      <td>9.5372</td>\n",
       "      <td>11.0437</td>\n",
       "      <td>8.9492</td>\n",
       "      <td>8.8225</td>\n",
       "    </tr>\n",
       "    <tr>\n",
       "      <th>TCGA-02-2483-01</th>\n",
       "      <td>12.1160</td>\n",
       "      <td>1.0000</td>\n",
       "      <td>11.1235</td>\n",
       "      <td>9.5243</td>\n",
       "      <td>9.3524</td>\n",
       "    </tr>\n",
       "    <tr>\n",
       "      <th>TCGA-02-2485-01</th>\n",
       "      <td>12.1724</td>\n",
       "      <td>2.3219</td>\n",
       "      <td>9.9986</td>\n",
       "      <td>9.2997</td>\n",
       "      <td>9.3940</td>\n",
       "    </tr>\n",
       "    <tr>\n",
       "      <th>TCGA-04-1331-01</th>\n",
       "      <td>12.5887</td>\n",
       "      <td>3.4594</td>\n",
       "      <td>11.4268</td>\n",
       "      <td>10.1968</td>\n",
       "      <td>10.0932</td>\n",
       "    </tr>\n",
       "  </tbody>\n",
       "</table>\n",
       "</div>"
      ],
      "text/plain": [
       "                 ENSG00000000003.14  ENSG00000000005.5  ENSG00000000419.12  \\\n",
       "sample_id                                                                    \n",
       "TCGA-02-0047-01             11.0587             1.0000              9.1111   \n",
       "TCGA-02-0055-01             11.3393             9.5372             11.0437   \n",
       "TCGA-02-2483-01             12.1160             1.0000             11.1235   \n",
       "TCGA-02-2485-01             12.1724             2.3219              9.9986   \n",
       "TCGA-04-1331-01             12.5887             3.4594             11.4268   \n",
       "\n",
       "                 ENSG00000000457.13  ENSG00000000460.16  \n",
       "sample_id                                                \n",
       "TCGA-02-0047-01              8.5989              8.0783  \n",
       "TCGA-02-0055-01              8.9492              8.8225  \n",
       "TCGA-02-2483-01              9.5243              9.3524  \n",
       "TCGA-02-2485-01              9.2997              9.3940  \n",
       "TCGA-04-1331-01             10.1968             10.0932  "
      ]
     },
     "execution_count": 4,
     "metadata": {},
     "output_type": "execute_result"
    }
   ],
   "source": [
    "counts_df.iloc[:5, :5]"
   ]
  },
  {
   "cell_type": "code",
   "execution_count": 5,
   "metadata": {},
   "outputs": [
    {
     "name": "stdout",
     "output_type": "stream",
     "text": [
      "After transform: 0.0 24.3103\n",
      "Before transform: 0 20803168\n"
     ]
    }
   ],
   "source": [
    "# per the documentation for the Xena Browser, these are log-transformed\n",
    "# expected counts - see: \n",
    "# https://toil-xena-hub.s3.us-east-1.amazonaws.com/download/tcga_gene_expected_count.json\n",
    "#\n",
    "# we want to un-log transform them here (2^x - 1), and round to the nearest integer,\n",
    "# to prepare for DE analysis\n",
    "print('After transform:', counts_df.min().min(), counts_df.max().max())\n",
    "counts_df = ((2 ** counts_df) - 1).round(0).astype(int)\n",
    "print('Before transform:', counts_df.min().min(), counts_df.max().max())"
   ]
  },
  {
   "cell_type": "code",
   "execution_count": 6,
   "metadata": {},
   "outputs": [],
   "source": [
    "counts_df.to_csv(cfg.processed_counts_file, sep='\\t')"
   ]
  }
 ],
 "metadata": {
  "kernelspec": {
   "display_name": "Python [conda env:mutation_fn]",
   "language": "python",
   "name": "conda-env-mutation_fn-py"
  },
  "language_info": {
   "codemirror_mode": {
    "name": "ipython",
    "version": 3
   },
   "file_extension": ".py",
   "mimetype": "text/x-python",
   "name": "python",
   "nbconvert_exporter": "python",
   "pygments_lexer": "ipython3",
   "version": "3.8.0"
  }
 },
 "nbformat": 4,
 "nbformat_minor": 4
}
