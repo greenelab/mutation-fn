{
 "cells": [
  {
   "cell_type": "markdown",
   "metadata": {},
   "source": [
    "## Differential expression analysis control\n",
    "\n",
    "As a way of quantifying how similar/different the expression profiles associated with different mutation patterns are, we want to count the number of differentially expressed genes between them. To make sure this makes sense, we first want to take some cancer subtypes we know are quite different, and compare the number of DE genes between them to the number of DE genes between random samples of the same size.\n",
    "\n",
    "We expect to see that different subtypes have considerably more DE genes between them than random samples taken uniformly from the different subtypes."
   ]
  },
  {
   "cell_type": "code",
   "execution_count": 1,
   "metadata": {},
   "outputs": [],
   "source": [
    "from pathlib import Path\n",
    "import pickle as pkl\n",
    "\n",
    "import pandas as pd\n",
    "\n",
    "import sys; sys.path.append('..')\n",
    "import config as cfg\n",
    "\n",
    "%load_ext autoreload\n",
    "%autoreload 2"
   ]
  },
  {
   "cell_type": "code",
   "execution_count": 2,
   "metadata": {},
   "outputs": [],
   "source": [
    "# if True rerun DE analysis and overwrite existing results \n",
    "# if False look for existing results and don't rerun DE analysis\n",
    "# (the latter makes the notebook run much faster)\n",
    "RUN_DE_ANALYSIS = False"
   ]
  },
  {
   "cell_type": "markdown",
   "metadata": {},
   "source": [
    "### Load datasets"
   ]
  },
  {
   "cell_type": "code",
   "execution_count": 3,
   "metadata": {},
   "outputs": [
    {
     "name": "stdout",
     "output_type": "stream",
     "text": [
      "(10530, 60498)\n"
     ]
    },
    {
     "data": {
      "text/html": [
       "<div>\n",
       "<style scoped>\n",
       "    .dataframe tbody tr th:only-of-type {\n",
       "        vertical-align: middle;\n",
       "    }\n",
       "\n",
       "    .dataframe tbody tr th {\n",
       "        vertical-align: top;\n",
       "    }\n",
       "\n",
       "    .dataframe thead th {\n",
       "        text-align: right;\n",
       "    }\n",
       "</style>\n",
       "<table border=\"1\" class=\"dataframe\">\n",
       "  <thead>\n",
       "    <tr style=\"text-align: right;\">\n",
       "      <th></th>\n",
       "      <th>ENSG00000000003.14</th>\n",
       "      <th>ENSG00000000005.5</th>\n",
       "      <th>ENSG00000000419.12</th>\n",
       "      <th>ENSG00000000457.13</th>\n",
       "      <th>ENSG00000000460.16</th>\n",
       "    </tr>\n",
       "    <tr>\n",
       "      <th>sample_id</th>\n",
       "      <th></th>\n",
       "      <th></th>\n",
       "      <th></th>\n",
       "      <th></th>\n",
       "      <th></th>\n",
       "    </tr>\n",
       "  </thead>\n",
       "  <tbody>\n",
       "    <tr>\n",
       "      <th>TCGA-02-0047-01</th>\n",
       "      <td>2132</td>\n",
       "      <td>1</td>\n",
       "      <td>552</td>\n",
       "      <td>387</td>\n",
       "      <td>269</td>\n",
       "    </tr>\n",
       "    <tr>\n",
       "      <th>TCGA-02-0055-01</th>\n",
       "      <td>2590</td>\n",
       "      <td>742</td>\n",
       "      <td>2110</td>\n",
       "      <td>493</td>\n",
       "      <td>452</td>\n",
       "    </tr>\n",
       "    <tr>\n",
       "      <th>TCGA-02-2483-01</th>\n",
       "      <td>4438</td>\n",
       "      <td>1</td>\n",
       "      <td>2230</td>\n",
       "      <td>735</td>\n",
       "      <td>653</td>\n",
       "    </tr>\n",
       "    <tr>\n",
       "      <th>TCGA-02-2485-01</th>\n",
       "      <td>4615</td>\n",
       "      <td>4</td>\n",
       "      <td>1022</td>\n",
       "      <td>629</td>\n",
       "      <td>672</td>\n",
       "    </tr>\n",
       "    <tr>\n",
       "      <th>TCGA-04-1331-01</th>\n",
       "      <td>6159</td>\n",
       "      <td>10</td>\n",
       "      <td>2752</td>\n",
       "      <td>1173</td>\n",
       "      <td>1091</td>\n",
       "    </tr>\n",
       "  </tbody>\n",
       "</table>\n",
       "</div>"
      ],
      "text/plain": [
       "                 ENSG00000000003.14  ENSG00000000005.5  ENSG00000000419.12  \\\n",
       "sample_id                                                                    \n",
       "TCGA-02-0047-01                2132                  1                 552   \n",
       "TCGA-02-0055-01                2590                742                2110   \n",
       "TCGA-02-2483-01                4438                  1                2230   \n",
       "TCGA-02-2485-01                4615                  4                1022   \n",
       "TCGA-04-1331-01                6159                 10                2752   \n",
       "\n",
       "                 ENSG00000000457.13  ENSG00000000460.16  \n",
       "sample_id                                                \n",
       "TCGA-02-0047-01                 387                 269  \n",
       "TCGA-02-0055-01                 493                 452  \n",
       "TCGA-02-2483-01                 735                 653  \n",
       "TCGA-02-2485-01                 629                 672  \n",
       "TCGA-04-1331-01                1173                1091  "
      ]
     },
     "execution_count": 3,
     "metadata": {},
     "output_type": "execute_result"
    }
   ],
   "source": [
    "# load counts data\n",
    "all_counts_df = pd.read_csv(cfg.processed_counts_file, sep='\\t', index_col=0)\n",
    "print(all_counts_df.shape)\n",
    "all_counts_df.iloc[:5, :5]"
   ]
  },
  {
   "cell_type": "code",
   "execution_count": 4,
   "metadata": {},
   "outputs": [
    {
     "name": "stdout",
     "output_type": "stream",
     "text": [
      "(11060, 3)\n"
     ]
    },
    {
     "data": {
      "text/html": [
       "<div>\n",
       "<style scoped>\n",
       "    .dataframe tbody tr th:only-of-type {\n",
       "        vertical-align: middle;\n",
       "    }\n",
       "\n",
       "    .dataframe tbody tr th {\n",
       "        vertical-align: top;\n",
       "    }\n",
       "\n",
       "    .dataframe thead th {\n",
       "        text-align: right;\n",
       "    }\n",
       "</style>\n",
       "<table border=\"1\" class=\"dataframe\">\n",
       "  <thead>\n",
       "    <tr style=\"text-align: right;\">\n",
       "      <th></th>\n",
       "      <th>sample_type</th>\n",
       "      <th>cancer_type</th>\n",
       "      <th>id_for_stratification</th>\n",
       "    </tr>\n",
       "    <tr>\n",
       "      <th>sample_id</th>\n",
       "      <th></th>\n",
       "      <th></th>\n",
       "      <th></th>\n",
       "    </tr>\n",
       "  </thead>\n",
       "  <tbody>\n",
       "    <tr>\n",
       "      <th>TCGA-02-0047-01</th>\n",
       "      <td>Primary Solid Tumor</td>\n",
       "      <td>GBM</td>\n",
       "      <td>GBMPrimary Solid Tumor</td>\n",
       "    </tr>\n",
       "    <tr>\n",
       "      <th>TCGA-02-0055-01</th>\n",
       "      <td>Primary Solid Tumor</td>\n",
       "      <td>GBM</td>\n",
       "      <td>GBMPrimary Solid Tumor</td>\n",
       "    </tr>\n",
       "    <tr>\n",
       "      <th>TCGA-02-2483-01</th>\n",
       "      <td>Primary Solid Tumor</td>\n",
       "      <td>GBM</td>\n",
       "      <td>GBMPrimary Solid Tumor</td>\n",
       "    </tr>\n",
       "    <tr>\n",
       "      <th>TCGA-02-2485-01</th>\n",
       "      <td>Primary Solid Tumor</td>\n",
       "      <td>GBM</td>\n",
       "      <td>GBMPrimary Solid Tumor</td>\n",
       "    </tr>\n",
       "    <tr>\n",
       "      <th>TCGA-02-2486-01</th>\n",
       "      <td>Primary Solid Tumor</td>\n",
       "      <td>GBM</td>\n",
       "      <td>GBMPrimary Solid Tumor</td>\n",
       "    </tr>\n",
       "  </tbody>\n",
       "</table>\n",
       "</div>"
      ],
      "text/plain": [
       "                         sample_type cancer_type   id_for_stratification\n",
       "sample_id                                                               \n",
       "TCGA-02-0047-01  Primary Solid Tumor         GBM  GBMPrimary Solid Tumor\n",
       "TCGA-02-0055-01  Primary Solid Tumor         GBM  GBMPrimary Solid Tumor\n",
       "TCGA-02-2483-01  Primary Solid Tumor         GBM  GBMPrimary Solid Tumor\n",
       "TCGA-02-2485-01  Primary Solid Tumor         GBM  GBMPrimary Solid Tumor\n",
       "TCGA-02-2486-01  Primary Solid Tumor         GBM  GBMPrimary Solid Tumor"
      ]
     },
     "execution_count": 4,
     "metadata": {},
     "output_type": "execute_result"
    }
   ],
   "source": [
    "# load cancer types\n",
    "sample_info_df = pd.read_csv(cfg.de_sample_info, sep='\\t', index_col=0)\n",
    "print(sample_info_df.shape)\n",
    "sample_info_df.head()"
   ]
  },
  {
   "cell_type": "code",
   "execution_count": 5,
   "metadata": {},
   "outputs": [
    {
     "name": "stdout",
     "output_type": "stream",
     "text": [
      "(9074, 20938)\n"
     ]
    },
    {
     "data": {
      "text/html": [
       "<div>\n",
       "<style scoped>\n",
       "    .dataframe tbody tr th:only-of-type {\n",
       "        vertical-align: middle;\n",
       "    }\n",
       "\n",
       "    .dataframe tbody tr th {\n",
       "        vertical-align: top;\n",
       "    }\n",
       "\n",
       "    .dataframe thead th {\n",
       "        text-align: right;\n",
       "    }\n",
       "</style>\n",
       "<table border=\"1\" class=\"dataframe\">\n",
       "  <thead>\n",
       "    <tr style=\"text-align: right;\">\n",
       "      <th></th>\n",
       "      <th>5S_rRNA</th>\n",
       "      <th>A1BG</th>\n",
       "      <th>A1CF</th>\n",
       "      <th>A2M</th>\n",
       "      <th>A2ML1</th>\n",
       "    </tr>\n",
       "    <tr>\n",
       "      <th>SAMPLE_BARCODE</th>\n",
       "      <th></th>\n",
       "      <th></th>\n",
       "      <th></th>\n",
       "      <th></th>\n",
       "      <th></th>\n",
       "    </tr>\n",
       "  </thead>\n",
       "  <tbody>\n",
       "    <tr>\n",
       "      <th>TCGA-02-0047-01</th>\n",
       "      <td>0</td>\n",
       "      <td>0</td>\n",
       "      <td>0</td>\n",
       "      <td>0</td>\n",
       "      <td>0</td>\n",
       "    </tr>\n",
       "    <tr>\n",
       "      <th>TCGA-02-0055-01</th>\n",
       "      <td>0</td>\n",
       "      <td>0</td>\n",
       "      <td>0</td>\n",
       "      <td>0</td>\n",
       "      <td>0</td>\n",
       "    </tr>\n",
       "    <tr>\n",
       "      <th>TCGA-02-2483-01</th>\n",
       "      <td>0</td>\n",
       "      <td>0</td>\n",
       "      <td>0</td>\n",
       "      <td>0</td>\n",
       "      <td>0</td>\n",
       "    </tr>\n",
       "    <tr>\n",
       "      <th>TCGA-02-2485-01</th>\n",
       "      <td>0</td>\n",
       "      <td>0</td>\n",
       "      <td>0</td>\n",
       "      <td>0</td>\n",
       "      <td>0</td>\n",
       "    </tr>\n",
       "    <tr>\n",
       "      <th>TCGA-02-2486-01</th>\n",
       "      <td>0</td>\n",
       "      <td>0</td>\n",
       "      <td>0</td>\n",
       "      <td>0</td>\n",
       "      <td>0</td>\n",
       "    </tr>\n",
       "  </tbody>\n",
       "</table>\n",
       "</div>"
      ],
      "text/plain": [
       "                 5S_rRNA  A1BG  A1CF  A2M  A2ML1\n",
       "SAMPLE_BARCODE                                  \n",
       "TCGA-02-0047-01        0     0     0    0      0\n",
       "TCGA-02-0055-01        0     0     0    0      0\n",
       "TCGA-02-2483-01        0     0     0    0      0\n",
       "TCGA-02-2485-01        0     0     0    0      0\n",
       "TCGA-02-2486-01        0     0     0    0      0"
      ]
     },
     "execution_count": 5,
     "metadata": {},
     "output_type": "execute_result"
    }
   ],
   "source": [
    "# load mutation status\n",
    "pancancer_pickle = Path('/home/jake/research/mpmp/data/pancancer_data.pkl')\n",
    "with open(pancancer_pickle, 'rb') as f:\n",
    "    pancancer_data = pkl.load(f)\n",
    "    \n",
    "mutation_df = pancancer_data[1]\n",
    "print(mutation_df.shape)\n",
    "mutation_df.iloc[:5, :5]"
   ]
  },
  {
   "cell_type": "markdown",
   "metadata": {},
   "source": [
    "### DE between IDH1 mutant/wild-type samples in low-grade glioma"
   ]
  },
  {
   "cell_type": "code",
   "execution_count": 6,
   "metadata": {},
   "outputs": [],
   "source": [
    "cfg.de_input_dir.mkdir(parents=True, exist_ok=True)\n",
    "cfg.de_output_dir.mkdir(parents=True, exist_ok=True)\n",
    "\n",
    "base_dir = str(cfg.de_base_dir)\n",
    "output_dir = str(cfg.de_output_dir)"
   ]
  },
  {
   "cell_type": "code",
   "execution_count": 7,
   "metadata": {},
   "outputs": [
    {
     "name": "stdout",
     "output_type": "stream",
     "text": [
      "(500, 60498)\n"
     ]
    },
    {
     "data": {
      "text/html": [
       "<div>\n",
       "<style scoped>\n",
       "    .dataframe tbody tr th:only-of-type {\n",
       "        vertical-align: middle;\n",
       "    }\n",
       "\n",
       "    .dataframe tbody tr th {\n",
       "        vertical-align: top;\n",
       "    }\n",
       "\n",
       "    .dataframe thead th {\n",
       "        text-align: right;\n",
       "    }\n",
       "</style>\n",
       "<table border=\"1\" class=\"dataframe\">\n",
       "  <thead>\n",
       "    <tr style=\"text-align: right;\">\n",
       "      <th></th>\n",
       "      <th>ENSG00000000003.14</th>\n",
       "      <th>ENSG00000000005.5</th>\n",
       "      <th>ENSG00000000419.12</th>\n",
       "      <th>ENSG00000000457.13</th>\n",
       "      <th>ENSG00000000460.16</th>\n",
       "    </tr>\n",
       "  </thead>\n",
       "  <tbody>\n",
       "    <tr>\n",
       "      <th>TCGA-CS-4938-01</th>\n",
       "      <td>5768</td>\n",
       "      <td>40</td>\n",
       "      <td>1083</td>\n",
       "      <td>677</td>\n",
       "      <td>369</td>\n",
       "    </tr>\n",
       "    <tr>\n",
       "      <th>TCGA-CS-4941-01</th>\n",
       "      <td>5740</td>\n",
       "      <td>91</td>\n",
       "      <td>919</td>\n",
       "      <td>980</td>\n",
       "      <td>554</td>\n",
       "    </tr>\n",
       "    <tr>\n",
       "      <th>TCGA-CS-4942-01</th>\n",
       "      <td>4187</td>\n",
       "      <td>0</td>\n",
       "      <td>820</td>\n",
       "      <td>804</td>\n",
       "      <td>433</td>\n",
       "    </tr>\n",
       "    <tr>\n",
       "      <th>TCGA-CS-4943-01</th>\n",
       "      <td>3458</td>\n",
       "      <td>2</td>\n",
       "      <td>1344</td>\n",
       "      <td>804</td>\n",
       "      <td>759</td>\n",
       "    </tr>\n",
       "    <tr>\n",
       "      <th>TCGA-CS-4944-01</th>\n",
       "      <td>5868</td>\n",
       "      <td>12</td>\n",
       "      <td>712</td>\n",
       "      <td>569</td>\n",
       "      <td>170</td>\n",
       "    </tr>\n",
       "  </tbody>\n",
       "</table>\n",
       "</div>"
      ],
      "text/plain": [
       "                 ENSG00000000003.14  ENSG00000000005.5  ENSG00000000419.12  \\\n",
       "TCGA-CS-4938-01                5768                 40                1083   \n",
       "TCGA-CS-4941-01                5740                 91                 919   \n",
       "TCGA-CS-4942-01                4187                  0                 820   \n",
       "TCGA-CS-4943-01                3458                  2                1344   \n",
       "TCGA-CS-4944-01                5868                 12                 712   \n",
       "\n",
       "                 ENSG00000000457.13  ENSG00000000460.16  \n",
       "TCGA-CS-4938-01                 677                 369  \n",
       "TCGA-CS-4941-01                 980                 554  \n",
       "TCGA-CS-4942-01                 804                 433  \n",
       "TCGA-CS-4943-01                 804                 759  \n",
       "TCGA-CS-4944-01                 569                 170  "
      ]
     },
     "execution_count": 7,
     "metadata": {},
     "output_type": "execute_result"
    }
   ],
   "source": [
    "# get LGG samples from counts data\n",
    "lgg_samples = (\n",
    "    sample_info_df[sample_info_df.cancer_type == 'LGG'].index\n",
    "      .intersection(all_counts_df.index)\n",
    "      .intersection(mutation_df.index)\n",
    ")\n",
    "lgg_counts_df = all_counts_df.loc[lgg_samples, :]\n",
    "print(lgg_counts_df.shape)\n",
    "lgg_counts_df.iloc[:5, :5]"
   ]
  },
  {
   "cell_type": "code",
   "execution_count": 8,
   "metadata": {},
   "outputs": [],
   "source": [
    "# save LGG samples to file, to be loaded by DESeq2\n",
    "input_file = cfg.de_input_dir / 'lgg_counts.tsv'\n",
    "input_str = str(input_file)\n",
    "\n",
    "lgg_counts_df.to_csv(input_file, sep='\\t')"
   ]
  },
  {
   "cell_type": "code",
   "execution_count": 9,
   "metadata": {},
   "outputs": [
    {
     "data": {
      "text/html": [
       "<div>\n",
       "<style scoped>\n",
       "    .dataframe tbody tr th:only-of-type {\n",
       "        vertical-align: middle;\n",
       "    }\n",
       "\n",
       "    .dataframe tbody tr th {\n",
       "        vertical-align: top;\n",
       "    }\n",
       "\n",
       "    .dataframe thead th {\n",
       "        text-align: right;\n",
       "    }\n",
       "</style>\n",
       "<table border=\"1\" class=\"dataframe\">\n",
       "  <thead>\n",
       "    <tr style=\"text-align: right;\">\n",
       "      <th></th>\n",
       "      <th>group</th>\n",
       "    </tr>\n",
       "  </thead>\n",
       "  <tbody>\n",
       "    <tr>\n",
       "      <th>TCGA-CS-4938-01</th>\n",
       "      <td>1</td>\n",
       "    </tr>\n",
       "    <tr>\n",
       "      <th>TCGA-CS-4941-01</th>\n",
       "      <td>0</td>\n",
       "    </tr>\n",
       "    <tr>\n",
       "      <th>TCGA-CS-4942-01</th>\n",
       "      <td>1</td>\n",
       "    </tr>\n",
       "    <tr>\n",
       "      <th>TCGA-CS-4943-01</th>\n",
       "      <td>1</td>\n",
       "    </tr>\n",
       "    <tr>\n",
       "      <th>TCGA-CS-4944-01</th>\n",
       "      <td>1</td>\n",
       "    </tr>\n",
       "  </tbody>\n",
       "</table>\n",
       "</div>"
      ],
      "text/plain": [
       "                 group\n",
       "TCGA-CS-4938-01      1\n",
       "TCGA-CS-4941-01      0\n",
       "TCGA-CS-4942-01      1\n",
       "TCGA-CS-4943-01      1\n",
       "TCGA-CS-4944-01      1"
      ]
     },
     "execution_count": 9,
     "metadata": {},
     "output_type": "execute_result"
    }
   ],
   "source": [
    "# get IDH1 mutation status\n",
    "idh1_status_df = (mutation_df\n",
    "    .loc[lgg_samples, ['IDH1']]\n",
    "    .rename(columns={'IDH1': 'group'})\n",
    ")\n",
    "idh1_status_df.head()"
   ]
  },
  {
   "cell_type": "code",
   "execution_count": 10,
   "metadata": {},
   "outputs": [],
   "source": [
    "# save mutation status to file, to be loaded by DESeq2\n",
    "input_metadata_file = cfg.de_input_dir / 'lgg_idh1_status.tsv'\n",
    "input_metadata_str = str(input_metadata_file)\n",
    "\n",
    "idh1_status_df.to_csv(input_metadata_file, sep='\\t')"
   ]
  },
  {
   "cell_type": "code",
   "execution_count": 11,
   "metadata": {},
   "outputs": [],
   "source": [
    "%load_ext rpy2.ipython"
   ]
  },
  {
   "cell_type": "code",
   "execution_count": 12,
   "metadata": {},
   "outputs": [
    {
     "name": "stdout",
     "output_type": "stream",
     "text": [
      "[1] \"Skipping DE analysis, will use existing results files\"\n"
     ]
    }
   ],
   "source": [
    "%%R -i RUN_DE_ANALYSIS -i base_dir -i input_metadata_str -i input_str -i output_dir \n",
    "\n",
    "if (RUN_DE_ANALYSIS) {\n",
    "    source(paste0(base_dir, '/de_analysis.R'))\n",
    "\n",
    "    get_DE_stats_DESeq(input_metadata_str,\n",
    "                       input_str,\n",
    "                       'LGG_IDH1',\n",
    "                       output_dir)\n",
    "} else {\n",
    "    print('Skipping DE analysis, will use existing results files')\n",
    "}"
   ]
  },
  {
   "cell_type": "markdown",
   "metadata": {},
   "source": [
    "### DE between random samples in low-grade glioma\n",
    "\n",
    "We do this to generate an empirical null distribution for our results in IDH1 mutants/wild-type samples."
   ]
  },
  {
   "cell_type": "code",
   "execution_count": 13,
   "metadata": {},
   "outputs": [],
   "source": [
    "# number of random samples\n",
    "n_samples = 5"
   ]
  },
  {
   "cell_type": "code",
   "execution_count": 14,
   "metadata": {},
   "outputs": [
    {
     "name": "stdout",
     "output_type": "stream",
     "text": [
      "387 113\n"
     ]
    }
   ],
   "source": [
    "n_mutated = idh1_status_df.sum().values[0]\n",
    "n_not_mutated = idh1_status_df.shape[0] - n_mutated\n",
    "print(n_mutated, n_not_mutated)"
   ]
  },
  {
   "cell_type": "code",
   "execution_count": 15,
   "metadata": {},
   "outputs": [
    {
     "name": "stdout",
     "output_type": "stream",
     "text": [
      "/home/jake/research/mutation-fn/4_de_analysis/de_input/lgg_idh1_random_s0.tsv\n",
      "/home/jake/research/mutation-fn/4_de_analysis/de_input/lgg_idh1_random_s1.tsv\n",
      "/home/jake/research/mutation-fn/4_de_analysis/de_input/lgg_idh1_random_s2.tsv\n",
      "/home/jake/research/mutation-fn/4_de_analysis/de_input/lgg_idh1_random_s3.tsv\n",
      "/home/jake/research/mutation-fn/4_de_analysis/de_input/lgg_idh1_random_s4.tsv\n"
     ]
    }
   ],
   "source": [
    "# we can use sklearn train_test_split to partition the data randomly\n",
    "import numpy as np\n",
    "from sklearn.model_selection import train_test_split\n",
    "\n",
    "for sample_ix in range(n_samples):\n",
    "    _, test_ixs = train_test_split(idh1_status_df.index,\n",
    "                                   test_size=n_mutated,\n",
    "                                   shuffle=True,\n",
    "                                   random_state=sample_ix)\n",
    "    labels_df = pd.DataFrame(\n",
    "        np.zeros(idh1_status_df.shape[0]).astype(int),\n",
    "        index=idh1_status_df.index.copy(),\n",
    "        columns=['group']\n",
    "    )\n",
    "    labels_df.loc[test_ixs, 'group'] = 1\n",
    "    \n",
    "    save_file = cfg.de_input_dir / 'lgg_idh1_random_s{}.tsv'.format(sample_ix)\n",
    "    print(str(save_file))\n",
    "    labels_df.to_csv(save_file, sep='\\t')"
   ]
  },
  {
   "cell_type": "code",
   "execution_count": 16,
   "metadata": {},
   "outputs": [],
   "source": [
    "input_metadata_dir = str(cfg.de_input_dir)"
   ]
  },
  {
   "cell_type": "code",
   "execution_count": 17,
   "metadata": {},
   "outputs": [
    {
     "name": "stdout",
     "output_type": "stream",
     "text": [
      "[1] \"Skipping DE analysis, will use existing results files\"\n"
     ]
    }
   ],
   "source": [
    "%%R -i RUN_DE_ANALYSIS -i base_dir -i input_str -i n_samples -i input_metadata_dir -i output_dir\n",
    "\n",
    "if (RUN_DE_ANALYSIS) {\n",
    "    source(paste0(base_dir, '/de_analysis.R'))\n",
    "\n",
    "    for (i in 0:(n_samples-1)) {\n",
    "        print(paste('Running: ', i))\n",
    "        input_metadata_str <- paste(\n",
    "            input_metadata_dir, '/lgg_idh1_random_s', i, '.tsv',\n",
    "            sep=''\n",
    "        )\n",
    "        get_DE_stats_DESeq(input_metadata_str,\n",
    "                           input_str,\n",
    "                           paste('LGG_IDH1_random_s', i, sep=''),\n",
    "                           output_dir)\n",
    "    }\n",
    "} else {\n",
    "    print('Skipping DE analysis, will use existing results files')\n",
    "}"
   ]
  },
  {
   "cell_type": "markdown",
   "metadata": {},
   "source": [
    "### Compare IDH1 mutation DE results to randomly sampled results"
   ]
  }
 ],
 "metadata": {
  "kernelspec": {
   "display_name": "Python [conda env:mutation_fn]",
   "language": "python",
   "name": "conda-env-mutation_fn-py"
  },
  "language_info": {
   "codemirror_mode": {
    "name": "ipython",
    "version": 3
   },
   "file_extension": ".py",
   "mimetype": "text/x-python",
   "name": "python",
   "nbconvert_exporter": "python",
   "pygments_lexer": "ipython3",
   "version": "3.8.0"
  }
 },
 "nbformat": 4,
 "nbformat_minor": 4
}
