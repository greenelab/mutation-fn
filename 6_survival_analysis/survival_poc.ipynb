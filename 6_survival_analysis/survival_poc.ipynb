{
 "cells": [
  {
   "cell_type": "markdown",
   "metadata": {},
   "source": [
    "## Survival analysis proof-of-concept\n",
    "\n",
    "Much of the preprocessing code is based on: https://github.com/greenelab/mpmp/blob/master/mpmp/utilities/data_utilities.py#L510"
   ]
  },
  {
   "cell_type": "code",
   "execution_count": 1,
   "metadata": {},
   "outputs": [],
   "source": [
    "from pathlib import Path\n",
    "\n",
    "import pandas as pd"
   ]
  },
  {
   "cell_type": "markdown",
   "metadata": {},
   "source": [
    "### Get clinical endpoint info"
   ]
  },
  {
   "cell_type": "code",
   "execution_count": 2,
   "metadata": {},
   "outputs": [],
   "source": [
    "# use TCGA clinical data downloaded in mpmp repo\n",
    "mpmp_location = Path('/home/jake/research/mpmp')\n",
    "clinical_filename = (\n",
    "    mpmp_location / 'data' / 'raw' / 'TCGA-CDR-SupplementalTableS1.xlsx'\n",
    ")"
   ]
  },
  {
   "cell_type": "code",
   "execution_count": 3,
   "metadata": {},
   "outputs": [
    {
     "name": "stdout",
     "output_type": "stream",
     "text": [
      "(11160, 32)\n"
     ]
    },
    {
     "data": {
      "text/html": [
       "<div>\n",
       "<style scoped>\n",
       "    .dataframe tbody tr th:only-of-type {\n",
       "        vertical-align: middle;\n",
       "    }\n",
       "\n",
       "    .dataframe tbody tr th {\n",
       "        vertical-align: top;\n",
       "    }\n",
       "\n",
       "    .dataframe thead th {\n",
       "        text-align: right;\n",
       "    }\n",
       "</style>\n",
       "<table border=\"1\" class=\"dataframe\">\n",
       "  <thead>\n",
       "    <tr style=\"text-align: right;\">\n",
       "      <th></th>\n",
       "      <th>type</th>\n",
       "      <th>age</th>\n",
       "      <th>gender</th>\n",
       "      <th>race</th>\n",
       "      <th>ajcc_pathologic_tumor_stage</th>\n",
       "    </tr>\n",
       "    <tr>\n",
       "      <th>sample_id</th>\n",
       "      <th></th>\n",
       "      <th></th>\n",
       "      <th></th>\n",
       "      <th></th>\n",
       "      <th></th>\n",
       "    </tr>\n",
       "  </thead>\n",
       "  <tbody>\n",
       "    <tr>\n",
       "      <th>TCGA-OR-A5J1</th>\n",
       "      <td>ACC</td>\n",
       "      <td>58.0</td>\n",
       "      <td>MALE</td>\n",
       "      <td>WHITE</td>\n",
       "      <td>Stage II</td>\n",
       "    </tr>\n",
       "    <tr>\n",
       "      <th>TCGA-OR-A5J2</th>\n",
       "      <td>ACC</td>\n",
       "      <td>44.0</td>\n",
       "      <td>FEMALE</td>\n",
       "      <td>WHITE</td>\n",
       "      <td>Stage IV</td>\n",
       "    </tr>\n",
       "    <tr>\n",
       "      <th>TCGA-OR-A5J3</th>\n",
       "      <td>ACC</td>\n",
       "      <td>23.0</td>\n",
       "      <td>FEMALE</td>\n",
       "      <td>WHITE</td>\n",
       "      <td>Stage III</td>\n",
       "    </tr>\n",
       "    <tr>\n",
       "      <th>TCGA-OR-A5J4</th>\n",
       "      <td>ACC</td>\n",
       "      <td>23.0</td>\n",
       "      <td>FEMALE</td>\n",
       "      <td>WHITE</td>\n",
       "      <td>Stage IV</td>\n",
       "    </tr>\n",
       "    <tr>\n",
       "      <th>TCGA-OR-A5J5</th>\n",
       "      <td>ACC</td>\n",
       "      <td>30.0</td>\n",
       "      <td>MALE</td>\n",
       "      <td>WHITE</td>\n",
       "      <td>Stage III</td>\n",
       "    </tr>\n",
       "  </tbody>\n",
       "</table>\n",
       "</div>"
      ],
      "text/plain": [
       "             type   age  gender   race ajcc_pathologic_tumor_stage\n",
       "sample_id                                                         \n",
       "TCGA-OR-A5J1  ACC  58.0    MALE  WHITE                    Stage II\n",
       "TCGA-OR-A5J2  ACC  44.0  FEMALE  WHITE                    Stage IV\n",
       "TCGA-OR-A5J3  ACC  23.0  FEMALE  WHITE                   Stage III\n",
       "TCGA-OR-A5J4  ACC  23.0  FEMALE  WHITE                    Stage IV\n",
       "TCGA-OR-A5J5  ACC  30.0    MALE  WHITE                   Stage III"
      ]
     },
     "execution_count": 3,
     "metadata": {},
     "output_type": "execute_result"
    }
   ],
   "source": [
    "clinical_df = pd.read_excel(\n",
    "    clinical_filename,\n",
    "    sheet_name='TCGA-CDR',\n",
    "    index_col='bcr_patient_barcode',\n",
    "    engine='openpyxl'\n",
    ")\n",
    "\n",
    "clinical_df.index.rename('sample_id', inplace=True)\n",
    "\n",
    "# drop numeric index column\n",
    "clinical_df.drop(labels=['Unnamed: 0'], axis=1, inplace=True)\n",
    "\n",
    "# we want to use age as a covariate\n",
    "clinical_df.rename(columns={'age_at_initial_pathologic_diagnosis': 'age'},\n",
    "                   inplace=True)\n",
    "\n",
    "print(clinical_df.shape)\n",
    "clinical_df.iloc[:5, :5]"
   ]
  },
  {
   "cell_type": "code",
   "execution_count": 4,
   "metadata": {},
   "outputs": [
    {
     "name": "stdout",
     "output_type": "stream",
     "text": [
      "(11094, 4)\n"
     ]
    },
    {
     "data": {
      "text/html": [
       "<div>\n",
       "<style scoped>\n",
       "    .dataframe tbody tr th:only-of-type {\n",
       "        vertical-align: middle;\n",
       "    }\n",
       "\n",
       "    .dataframe tbody tr th {\n",
       "        vertical-align: top;\n",
       "    }\n",
       "\n",
       "    .dataframe thead th {\n",
       "        text-align: right;\n",
       "    }\n",
       "</style>\n",
       "<table border=\"1\" class=\"dataframe\">\n",
       "  <thead>\n",
       "    <tr style=\"text-align: right;\">\n",
       "      <th></th>\n",
       "      <th>status</th>\n",
       "      <th>time_in_days</th>\n",
       "      <th>age</th>\n",
       "      <th>type</th>\n",
       "    </tr>\n",
       "    <tr>\n",
       "      <th>sample_id</th>\n",
       "      <th></th>\n",
       "      <th></th>\n",
       "      <th></th>\n",
       "      <th></th>\n",
       "    </tr>\n",
       "  </thead>\n",
       "  <tbody>\n",
       "    <tr>\n",
       "      <th>TCGA-OR-A5J1</th>\n",
       "      <td>True</td>\n",
       "      <td>1355.0</td>\n",
       "      <td>58.0</td>\n",
       "      <td>ACC</td>\n",
       "    </tr>\n",
       "    <tr>\n",
       "      <th>TCGA-OR-A5J2</th>\n",
       "      <td>True</td>\n",
       "      <td>1677.0</td>\n",
       "      <td>44.0</td>\n",
       "      <td>ACC</td>\n",
       "    </tr>\n",
       "    <tr>\n",
       "      <th>TCGA-OR-A5J3</th>\n",
       "      <td>False</td>\n",
       "      <td>2091.0</td>\n",
       "      <td>23.0</td>\n",
       "      <td>ACC</td>\n",
       "    </tr>\n",
       "    <tr>\n",
       "      <th>TCGA-OR-A5J4</th>\n",
       "      <td>True</td>\n",
       "      <td>423.0</td>\n",
       "      <td>23.0</td>\n",
       "      <td>ACC</td>\n",
       "    </tr>\n",
       "    <tr>\n",
       "      <th>TCGA-OR-A5J5</th>\n",
       "      <td>True</td>\n",
       "      <td>365.0</td>\n",
       "      <td>30.0</td>\n",
       "      <td>ACC</td>\n",
       "    </tr>\n",
       "  </tbody>\n",
       "</table>\n",
       "</div>"
      ],
      "text/plain": [
       "              status  time_in_days   age type\n",
       "sample_id                                    \n",
       "TCGA-OR-A5J1    True        1355.0  58.0  ACC\n",
       "TCGA-OR-A5J2    True        1677.0  44.0  ACC\n",
       "TCGA-OR-A5J3   False        2091.0  23.0  ACC\n",
       "TCGA-OR-A5J4    True         423.0  23.0  ACC\n",
       "TCGA-OR-A5J5    True         365.0  30.0  ACC"
      ]
     },
     "execution_count": 4,
     "metadata": {},
     "output_type": "execute_result"
    }
   ],
   "source": [
    "# we want to use overall survival as the target variable except for\n",
    "# certain cancer types where progression-free intervals are typically\n",
    "# used (since very few deaths are observed)\n",
    "# this is recommended in https://doi.org/10.1016/j.cell.2018.02.052\n",
    "pfi_cancer_types = [\n",
    "    'BRCA', 'DLBC', 'LGG', 'PCPG', 'PRAD',\n",
    "    'READ', 'TGCT', 'THCA', 'THYM'\n",
    "]\n",
    "\n",
    "clinical_df['time_in_days'] = clinical_df['OS.time']\n",
    "clinical_df['status'] = clinical_df['OS'].astype('bool')\n",
    "\n",
    "pfi_samples = clinical_df.type.isin(pfi_cancer_types)\n",
    "clinical_df.loc[pfi_samples, 'time_in_days'] = clinical_df[pfi_samples]['PFI.time']\n",
    "clinical_df.loc[pfi_samples, 'status'] = clinical_df[pfi_samples]['PFI'].astype('bool')\n",
    "\n",
    "# clean up columns and drop samples with NA survival times\n",
    "na_survival_times = (clinical_df['time_in_days'].isna())\n",
    "cols_to_keep = ['status', 'time_in_days', 'age', 'type']\n",
    "clinical_df = clinical_df.loc[~na_survival_times, cols_to_keep].copy()\n",
    "\n",
    "# mean impute missing age values\n",
    "clinical_df.age.fillna(clinical_df.age.mean(), inplace=True)\n",
    "\n",
    "print(clinical_df.shape)\n",
    "clinical_df.head()"
   ]
  }
 ],
 "metadata": {
  "kernelspec": {
   "display_name": "Python [conda env:mutation_fn]",
   "language": "python",
   "name": "conda-env-mutation_fn-py"
  },
  "language_info": {
   "codemirror_mode": {
    "name": "ipython",
    "version": 3
   },
   "file_extension": ".py",
   "mimetype": "text/x-python",
   "name": "python",
   "nbconvert_exporter": "python",
   "pygments_lexer": "ipython3",
   "version": "3.8.0"
  }
 },
 "nbformat": 4,
 "nbformat_minor": 4
}
