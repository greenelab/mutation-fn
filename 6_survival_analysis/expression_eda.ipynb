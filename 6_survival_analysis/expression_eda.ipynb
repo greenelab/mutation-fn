{
 "cells": [
  {
   "cell_type": "markdown",
   "metadata": {},
   "source": [
    "## Explore one-hit vs. two-hit samples in expression space"
   ]
  },
  {
   "cell_type": "code",
   "execution_count": 1,
   "metadata": {},
   "outputs": [],
   "source": [
    "from pathlib import Path\n",
    "import pickle as pkl\n",
    "\n",
    "import numpy as np\n",
    "import pandas as pd\n",
    "import seaborn as sns\n",
    "import matplotlib.pyplot as plt\n",
    "from sklearn.preprocessing import StandardScaler\n",
    "\n",
    "import sys; sys.path.append('..')\n",
    "import config as cfg\n",
    "from data_utilities import load_cnv_data\n",
    "\n",
    "%load_ext autoreload\n",
    "%autoreload 2"
   ]
  },
  {
   "cell_type": "code",
   "execution_count": 2,
   "metadata": {},
   "outputs": [],
   "source": [
    "# park et al. geneset info\n",
    "park_loss_data = cfg.data_dir / 'park_loss_df.tsv'\n",
    "park_gain_data = cfg.data_dir / 'park_gain_df.tsv'\n",
    "\n",
    "# park et al. significant gene info\n",
    "park_loss_sig_data = cfg.data_dir / 'park_loss_df_sig_only.tsv'\n",
    "park_gain_sig_data = cfg.data_dir / 'park_gain_df_sig_only.tsv'\n",
    "\n",
    "# park et al. gene/cancer type predictions\n",
    "park_preds_dir = cfg.data_dir / 'park_genes_all_preds'\n",
    "\n",
    "# mutation and copy number data\n",
    "pancancer_pickle = Path('/home/jake/research/mpmp/data/pancancer_data.pkl')\n",
    "\n",
    "# gene expression/rppa data files\n",
    "data_type = 'gene expression'\n",
    "subset_feats = 10000\n",
    "gene_expression_data_file = Path(\n",
    "    '/home/jake/research/mpmp/data/tcga_expression_matrix_processed.tsv.gz'\n",
    ")\n",
    "rppa_data_file = Path(\n",
    "    '/home/jake/research/mpmp/data/tcga_rppa_matrix_processed.tsv'\n",
    ")"
   ]
  },
  {
   "cell_type": "markdown",
   "metadata": {},
   "source": [
    "### Load mutation info\n",
    "\n",
    "For now, just use binary mutation status from the pancancer repo. In the future we could pull more granular info from MC3, but it would take some engineering of `1_get_mutation_counts` to do this for lots of genes."
   ]
  },
  {
   "cell_type": "code",
   "execution_count": 3,
   "metadata": {},
   "outputs": [
    {
     "data": {
      "text/html": [
       "<div>\n",
       "<style scoped>\n",
       "    .dataframe tbody tr th:only-of-type {\n",
       "        vertical-align: middle;\n",
       "    }\n",
       "\n",
       "    .dataframe tbody tr th {\n",
       "        vertical-align: top;\n",
       "    }\n",
       "\n",
       "    .dataframe thead th {\n",
       "        text-align: right;\n",
       "    }\n",
       "</style>\n",
       "<table border=\"1\" class=\"dataframe\">\n",
       "  <thead>\n",
       "    <tr style=\"text-align: right;\">\n",
       "      <th></th>\n",
       "      <th>Gene</th>\n",
       "      <th>Tissue</th>\n",
       "      <th>Effect</th>\n",
       "      <th>Pval</th>\n",
       "      <th>FDR</th>\n",
       "      <th>LogFDR</th>\n",
       "      <th>Target</th>\n",
       "      <th>classification</th>\n",
       "    </tr>\n",
       "  </thead>\n",
       "  <tbody>\n",
       "    <tr>\n",
       "      <th>ACVR1_UCEC</th>\n",
       "      <td>ACVR1</td>\n",
       "      <td>UCEC</td>\n",
       "      <td>0.000000</td>\n",
       "      <td>0.997445</td>\n",
       "      <td>0.681521</td>\n",
       "      <td>0.166514</td>\n",
       "      <td>B_Target</td>\n",
       "      <td>Oncogene</td>\n",
       "    </tr>\n",
       "    <tr>\n",
       "      <th>ACVR2A_COADREAD</th>\n",
       "      <td>ACVR2A</td>\n",
       "      <td>COADREAD</td>\n",
       "      <td>0.000000</td>\n",
       "      <td>0.997631</td>\n",
       "      <td>0.681315</td>\n",
       "      <td>0.166646</td>\n",
       "      <td>B_Target</td>\n",
       "      <td>TSG</td>\n",
       "    </tr>\n",
       "    <tr>\n",
       "      <th>ACVR2A_LIHC</th>\n",
       "      <td>ACVR2A</td>\n",
       "      <td>LIHC</td>\n",
       "      <td>-1.000178</td>\n",
       "      <td>0.040008</td>\n",
       "      <td>0.122307</td>\n",
       "      <td>0.912515</td>\n",
       "      <td>B_Target</td>\n",
       "      <td>TSG</td>\n",
       "    </tr>\n",
       "    <tr>\n",
       "      <th>AJUBA_HNSC</th>\n",
       "      <td>AJUBA</td>\n",
       "      <td>HNSC</td>\n",
       "      <td>-0.936050</td>\n",
       "      <td>0.008733</td>\n",
       "      <td>0.045816</td>\n",
       "      <td>1.338886</td>\n",
       "      <td>A_Hit</td>\n",
       "      <td>TSG</td>\n",
       "    </tr>\n",
       "    <tr>\n",
       "      <th>AKT1_BRCA</th>\n",
       "      <td>AKT1</td>\n",
       "      <td>BRCA</td>\n",
       "      <td>0.000000</td>\n",
       "      <td>0.997163</td>\n",
       "      <td>0.681829</td>\n",
       "      <td>0.166318</td>\n",
       "      <td>B_Target</td>\n",
       "      <td>Oncogene</td>\n",
       "    </tr>\n",
       "  </tbody>\n",
       "</table>\n",
       "</div>"
      ],
      "text/plain": [
       "                   Gene    Tissue    Effect      Pval       FDR    LogFDR  \\\n",
       "ACVR1_UCEC        ACVR1      UCEC  0.000000  0.997445  0.681521  0.166514   \n",
       "ACVR2A_COADREAD  ACVR2A  COADREAD  0.000000  0.997631  0.681315  0.166646   \n",
       "ACVR2A_LIHC      ACVR2A      LIHC -1.000178  0.040008  0.122307  0.912515   \n",
       "AJUBA_HNSC        AJUBA      HNSC -0.936050  0.008733  0.045816  1.338886   \n",
       "AKT1_BRCA          AKT1      BRCA  0.000000  0.997163  0.681829  0.166318   \n",
       "\n",
       "                   Target classification  \n",
       "ACVR1_UCEC       B_Target       Oncogene  \n",
       "ACVR2A_COADREAD  B_Target            TSG  \n",
       "ACVR2A_LIHC      B_Target            TSG  \n",
       "AJUBA_HNSC          A_Hit            TSG  \n",
       "AKT1_BRCA        B_Target       Oncogene  "
      ]
     },
     "execution_count": 3,
     "metadata": {},
     "output_type": "execute_result"
    }
   ],
   "source": [
    "park_loss_df = pd.read_csv(park_loss_data, sep='\\t', index_col=0)\n",
    "park_loss_df.head()"
   ]
  },
  {
   "cell_type": "code",
   "execution_count": 4,
   "metadata": {},
   "outputs": [
    {
     "data": {
      "text/html": [
       "<div>\n",
       "<style scoped>\n",
       "    .dataframe tbody tr th:only-of-type {\n",
       "        vertical-align: middle;\n",
       "    }\n",
       "\n",
       "    .dataframe tbody tr th {\n",
       "        vertical-align: top;\n",
       "    }\n",
       "\n",
       "    .dataframe thead th {\n",
       "        text-align: right;\n",
       "    }\n",
       "</style>\n",
       "<table border=\"1\" class=\"dataframe\">\n",
       "  <thead>\n",
       "    <tr style=\"text-align: right;\">\n",
       "      <th></th>\n",
       "      <th>Gene</th>\n",
       "      <th>Tissue</th>\n",
       "      <th>Effect</th>\n",
       "      <th>Pval</th>\n",
       "      <th>FDR</th>\n",
       "      <th>LogFDR</th>\n",
       "      <th>Target</th>\n",
       "      <th>classification</th>\n",
       "    </tr>\n",
       "  </thead>\n",
       "  <tbody>\n",
       "    <tr>\n",
       "      <th>ACVR1_UCEC</th>\n",
       "      <td>ACVR1</td>\n",
       "      <td>UCEC</td>\n",
       "      <td>-0.482699</td>\n",
       "      <td>0.370095</td>\n",
       "      <td>0.571956</td>\n",
       "      <td>0.242630</td>\n",
       "      <td>B_Target</td>\n",
       "      <td>Oncogene</td>\n",
       "    </tr>\n",
       "    <tr>\n",
       "      <th>ACVR2A_COADREAD</th>\n",
       "      <td>ACVR2A</td>\n",
       "      <td>COADREAD</td>\n",
       "      <td>0.187531</td>\n",
       "      <td>0.753981</td>\n",
       "      <td>0.780954</td>\n",
       "      <td>0.107369</td>\n",
       "      <td>B_Target</td>\n",
       "      <td>TSG</td>\n",
       "    </tr>\n",
       "    <tr>\n",
       "      <th>ACVR2A_LIHC</th>\n",
       "      <td>ACVR2A</td>\n",
       "      <td>LIHC</td>\n",
       "      <td>0.163421</td>\n",
       "      <td>0.834858</td>\n",
       "      <td>0.821548</td>\n",
       "      <td>0.085362</td>\n",
       "      <td>B_Target</td>\n",
       "      <td>TSG</td>\n",
       "    </tr>\n",
       "    <tr>\n",
       "      <th>AJUBA_HNSC</th>\n",
       "      <td>AJUBA</td>\n",
       "      <td>HNSC</td>\n",
       "      <td>0.711518</td>\n",
       "      <td>0.026392</td>\n",
       "      <td>0.147049</td>\n",
       "      <td>0.832509</td>\n",
       "      <td>B_Target</td>\n",
       "      <td>TSG</td>\n",
       "    </tr>\n",
       "    <tr>\n",
       "      <th>AKT1_BRCA</th>\n",
       "      <td>AKT1</td>\n",
       "      <td>BRCA</td>\n",
       "      <td>0.535765</td>\n",
       "      <td>0.092176</td>\n",
       "      <td>0.312738</td>\n",
       "      <td>0.504805</td>\n",
       "      <td>B_Target</td>\n",
       "      <td>Oncogene</td>\n",
       "    </tr>\n",
       "  </tbody>\n",
       "</table>\n",
       "</div>"
      ],
      "text/plain": [
       "                   Gene    Tissue    Effect      Pval       FDR    LogFDR  \\\n",
       "ACVR1_UCEC        ACVR1      UCEC -0.482699  0.370095  0.571956  0.242630   \n",
       "ACVR2A_COADREAD  ACVR2A  COADREAD  0.187531  0.753981  0.780954  0.107369   \n",
       "ACVR2A_LIHC      ACVR2A      LIHC  0.163421  0.834858  0.821548  0.085362   \n",
       "AJUBA_HNSC        AJUBA      HNSC  0.711518  0.026392  0.147049  0.832509   \n",
       "AKT1_BRCA          AKT1      BRCA  0.535765  0.092176  0.312738  0.504805   \n",
       "\n",
       "                   Target classification  \n",
       "ACVR1_UCEC       B_Target       Oncogene  \n",
       "ACVR2A_COADREAD  B_Target            TSG  \n",
       "ACVR2A_LIHC      B_Target            TSG  \n",
       "AJUBA_HNSC       B_Target            TSG  \n",
       "AKT1_BRCA        B_Target       Oncogene  "
      ]
     },
     "execution_count": 4,
     "metadata": {},
     "output_type": "execute_result"
    }
   ],
   "source": [
    "park_gain_df = pd.read_csv(park_gain_data, sep='\\t', index_col=0)\n",
    "park_gain_df.head()"
   ]
  },
  {
   "cell_type": "code",
   "execution_count": 5,
   "metadata": {},
   "outputs": [],
   "source": [
    "with open(pancancer_pickle, 'rb') as f:\n",
    "    pancancer_data = pkl.load(f)"
   ]
  },
  {
   "cell_type": "code",
   "execution_count": 6,
   "metadata": {},
   "outputs": [
    {
     "name": "stdout",
     "output_type": "stream",
     "text": [
      "(9074, 20938)\n"
     ]
    },
    {
     "data": {
      "text/html": [
       "<div>\n",
       "<style scoped>\n",
       "    .dataframe tbody tr th:only-of-type {\n",
       "        vertical-align: middle;\n",
       "    }\n",
       "\n",
       "    .dataframe tbody tr th {\n",
       "        vertical-align: top;\n",
       "    }\n",
       "\n",
       "    .dataframe thead th {\n",
       "        text-align: right;\n",
       "    }\n",
       "</style>\n",
       "<table border=\"1\" class=\"dataframe\">\n",
       "  <thead>\n",
       "    <tr style=\"text-align: right;\">\n",
       "      <th></th>\n",
       "      <th>5S_rRNA</th>\n",
       "      <th>A1BG</th>\n",
       "      <th>A1CF</th>\n",
       "      <th>A2M</th>\n",
       "      <th>A2ML1</th>\n",
       "    </tr>\n",
       "    <tr>\n",
       "      <th>SAMPLE_BARCODE</th>\n",
       "      <th></th>\n",
       "      <th></th>\n",
       "      <th></th>\n",
       "      <th></th>\n",
       "      <th></th>\n",
       "    </tr>\n",
       "  </thead>\n",
       "  <tbody>\n",
       "    <tr>\n",
       "      <th>TCGA-02-0047-01</th>\n",
       "      <td>0</td>\n",
       "      <td>0</td>\n",
       "      <td>0</td>\n",
       "      <td>0</td>\n",
       "      <td>0</td>\n",
       "    </tr>\n",
       "    <tr>\n",
       "      <th>TCGA-02-0055-01</th>\n",
       "      <td>0</td>\n",
       "      <td>0</td>\n",
       "      <td>0</td>\n",
       "      <td>0</td>\n",
       "      <td>0</td>\n",
       "    </tr>\n",
       "    <tr>\n",
       "      <th>TCGA-02-2483-01</th>\n",
       "      <td>0</td>\n",
       "      <td>0</td>\n",
       "      <td>0</td>\n",
       "      <td>0</td>\n",
       "      <td>0</td>\n",
       "    </tr>\n",
       "    <tr>\n",
       "      <th>TCGA-02-2485-01</th>\n",
       "      <td>0</td>\n",
       "      <td>0</td>\n",
       "      <td>0</td>\n",
       "      <td>0</td>\n",
       "      <td>0</td>\n",
       "    </tr>\n",
       "    <tr>\n",
       "      <th>TCGA-02-2486-01</th>\n",
       "      <td>0</td>\n",
       "      <td>0</td>\n",
       "      <td>0</td>\n",
       "      <td>0</td>\n",
       "      <td>0</td>\n",
       "    </tr>\n",
       "  </tbody>\n",
       "</table>\n",
       "</div>"
      ],
      "text/plain": [
       "                 5S_rRNA  A1BG  A1CF  A2M  A2ML1\n",
       "SAMPLE_BARCODE                                  \n",
       "TCGA-02-0047-01        0     0     0    0      0\n",
       "TCGA-02-0055-01        0     0     0    0      0\n",
       "TCGA-02-2483-01        0     0     0    0      0\n",
       "TCGA-02-2485-01        0     0     0    0      0\n",
       "TCGA-02-2486-01        0     0     0    0      0"
      ]
     },
     "execution_count": 6,
     "metadata": {},
     "output_type": "execute_result"
    }
   ],
   "source": [
    "# get (binary) mutation data\n",
    "# 1 = observed non-silent mutation in this gene for this sample, 0 otherwise\n",
    "mutation_df = pancancer_data[1]\n",
    "print(mutation_df.shape)\n",
    "mutation_df.iloc[:5, :5]"
   ]
  },
  {
   "cell_type": "markdown",
   "metadata": {},
   "source": [
    "### Load copy number info\n",
    "\n",
    "Get copy loss/gain info directly from GISTIC \"thresholded\" output. This should be the same as (or very similar to) what the Park et al. study uses."
   ]
  },
  {
   "cell_type": "code",
   "execution_count": 7,
   "metadata": {},
   "outputs": [
    {
     "name": "stdout",
     "output_type": "stream",
     "text": [
      "9074\n"
     ]
    }
   ],
   "source": [
    "sample_freeze_df = pancancer_data[0]\n",
    "copy_samples = set(sample_freeze_df.SAMPLE_BARCODE)\n",
    "print(len(copy_samples))"
   ]
  },
  {
   "cell_type": "code",
   "execution_count": 8,
   "metadata": {},
   "outputs": [
    {
     "name": "stdout",
     "output_type": "stream",
     "text": [
      "(9068, 25128)\n"
     ]
    },
    {
     "data": {
      "text/html": [
       "<div>\n",
       "<style scoped>\n",
       "    .dataframe tbody tr th:only-of-type {\n",
       "        vertical-align: middle;\n",
       "    }\n",
       "\n",
       "    .dataframe tbody tr th {\n",
       "        vertical-align: top;\n",
       "    }\n",
       "\n",
       "    .dataframe thead th {\n",
       "        text-align: right;\n",
       "    }\n",
       "</style>\n",
       "<table border=\"1\" class=\"dataframe\">\n",
       "  <thead>\n",
       "    <tr style=\"text-align: right;\">\n",
       "      <th>Gene Symbol</th>\n",
       "      <th>ACAP3</th>\n",
       "      <th>ACTRT2</th>\n",
       "      <th>AGRN</th>\n",
       "      <th>ANKRD65</th>\n",
       "      <th>ATAD3A</th>\n",
       "    </tr>\n",
       "  </thead>\n",
       "  <tbody>\n",
       "    <tr>\n",
       "      <th>TCGA-02-0047-01</th>\n",
       "      <td>0</td>\n",
       "      <td>0</td>\n",
       "      <td>0</td>\n",
       "      <td>0</td>\n",
       "      <td>0</td>\n",
       "    </tr>\n",
       "    <tr>\n",
       "      <th>TCGA-02-0055-01</th>\n",
       "      <td>0</td>\n",
       "      <td>0</td>\n",
       "      <td>0</td>\n",
       "      <td>0</td>\n",
       "      <td>0</td>\n",
       "    </tr>\n",
       "    <tr>\n",
       "      <th>TCGA-02-2483-01</th>\n",
       "      <td>1</td>\n",
       "      <td>1</td>\n",
       "      <td>1</td>\n",
       "      <td>1</td>\n",
       "      <td>1</td>\n",
       "    </tr>\n",
       "    <tr>\n",
       "      <th>TCGA-02-2485-01</th>\n",
       "      <td>0</td>\n",
       "      <td>0</td>\n",
       "      <td>0</td>\n",
       "      <td>0</td>\n",
       "      <td>0</td>\n",
       "    </tr>\n",
       "    <tr>\n",
       "      <th>TCGA-02-2486-01</th>\n",
       "      <td>0</td>\n",
       "      <td>0</td>\n",
       "      <td>0</td>\n",
       "      <td>0</td>\n",
       "      <td>0</td>\n",
       "    </tr>\n",
       "  </tbody>\n",
       "</table>\n",
       "</div>"
      ],
      "text/plain": [
       "Gene Symbol      ACAP3  ACTRT2  AGRN  ANKRD65  ATAD3A\n",
       "TCGA-02-0047-01      0       0     0        0       0\n",
       "TCGA-02-0055-01      0       0     0        0       0\n",
       "TCGA-02-2483-01      1       1     1        1       1\n",
       "TCGA-02-2485-01      0       0     0        0       0\n",
       "TCGA-02-2486-01      0       0     0        0       0"
      ]
     },
     "execution_count": 8,
     "metadata": {},
     "output_type": "execute_result"
    }
   ],
   "source": [
    "copy_loss_df, copy_gain_df = load_cnv_data(\n",
    "    cfg.data_dir / 'pancan_GISTIC_threshold.tsv',\n",
    "    copy_samples\n",
    ")\n",
    "print(copy_loss_df.shape)\n",
    "copy_loss_df.iloc[:5, :5]"
   ]
  },
  {
   "cell_type": "code",
   "execution_count": 9,
   "metadata": {},
   "outputs": [
    {
     "name": "stdout",
     "output_type": "stream",
     "text": [
      "(9068, 25128)\n"
     ]
    },
    {
     "data": {
      "text/html": [
       "<div>\n",
       "<style scoped>\n",
       "    .dataframe tbody tr th:only-of-type {\n",
       "        vertical-align: middle;\n",
       "    }\n",
       "\n",
       "    .dataframe tbody tr th {\n",
       "        vertical-align: top;\n",
       "    }\n",
       "\n",
       "    .dataframe thead th {\n",
       "        text-align: right;\n",
       "    }\n",
       "</style>\n",
       "<table border=\"1\" class=\"dataframe\">\n",
       "  <thead>\n",
       "    <tr style=\"text-align: right;\">\n",
       "      <th>Gene Symbol</th>\n",
       "      <th>ACAP3</th>\n",
       "      <th>ACTRT2</th>\n",
       "      <th>AGRN</th>\n",
       "      <th>ANKRD65</th>\n",
       "      <th>ATAD3A</th>\n",
       "    </tr>\n",
       "  </thead>\n",
       "  <tbody>\n",
       "    <tr>\n",
       "      <th>TCGA-02-0047-01</th>\n",
       "      <td>0</td>\n",
       "      <td>0</td>\n",
       "      <td>0</td>\n",
       "      <td>0</td>\n",
       "      <td>0</td>\n",
       "    </tr>\n",
       "    <tr>\n",
       "      <th>TCGA-02-0055-01</th>\n",
       "      <td>1</td>\n",
       "      <td>1</td>\n",
       "      <td>1</td>\n",
       "      <td>1</td>\n",
       "      <td>1</td>\n",
       "    </tr>\n",
       "    <tr>\n",
       "      <th>TCGA-02-2483-01</th>\n",
       "      <td>0</td>\n",
       "      <td>0</td>\n",
       "      <td>0</td>\n",
       "      <td>0</td>\n",
       "      <td>0</td>\n",
       "    </tr>\n",
       "    <tr>\n",
       "      <th>TCGA-02-2485-01</th>\n",
       "      <td>0</td>\n",
       "      <td>0</td>\n",
       "      <td>0</td>\n",
       "      <td>0</td>\n",
       "      <td>0</td>\n",
       "    </tr>\n",
       "    <tr>\n",
       "      <th>TCGA-02-2486-01</th>\n",
       "      <td>0</td>\n",
       "      <td>0</td>\n",
       "      <td>0</td>\n",
       "      <td>0</td>\n",
       "      <td>0</td>\n",
       "    </tr>\n",
       "  </tbody>\n",
       "</table>\n",
       "</div>"
      ],
      "text/plain": [
       "Gene Symbol      ACAP3  ACTRT2  AGRN  ANKRD65  ATAD3A\n",
       "TCGA-02-0047-01      0       0     0        0       0\n",
       "TCGA-02-0055-01      1       1     1        1       1\n",
       "TCGA-02-2483-01      0       0     0        0       0\n",
       "TCGA-02-2485-01      0       0     0        0       0\n",
       "TCGA-02-2486-01      0       0     0        0       0"
      ]
     },
     "execution_count": 9,
     "metadata": {},
     "output_type": "execute_result"
    }
   ],
   "source": [
    "print(copy_gain_df.shape)\n",
    "copy_gain_df.iloc[:5, :5]"
   ]
  },
  {
   "cell_type": "code",
   "execution_count": 10,
   "metadata": {},
   "outputs": [
    {
     "data": {
      "text/html": [
       "<div>\n",
       "<style scoped>\n",
       "    .dataframe tbody tr th:only-of-type {\n",
       "        vertical-align: middle;\n",
       "    }\n",
       "\n",
       "    .dataframe tbody tr th {\n",
       "        vertical-align: top;\n",
       "    }\n",
       "\n",
       "    .dataframe thead th {\n",
       "        text-align: right;\n",
       "    }\n",
       "</style>\n",
       "<table border=\"1\" class=\"dataframe\">\n",
       "  <thead>\n",
       "    <tr style=\"text-align: right;\">\n",
       "      <th></th>\n",
       "      <th>PATIENT_BARCODE</th>\n",
       "      <th>SAMPLE_BARCODE</th>\n",
       "      <th>DISEASE</th>\n",
       "      <th>SUBTYPE</th>\n",
       "    </tr>\n",
       "  </thead>\n",
       "  <tbody>\n",
       "    <tr>\n",
       "      <th>0</th>\n",
       "      <td>TCGA-OR-A5J1</td>\n",
       "      <td>TCGA-OR-A5J1-01</td>\n",
       "      <td>ACC</td>\n",
       "      <td>Not_Applicable</td>\n",
       "    </tr>\n",
       "    <tr>\n",
       "      <th>1</th>\n",
       "      <td>TCGA-OR-A5J2</td>\n",
       "      <td>TCGA-OR-A5J2-01</td>\n",
       "      <td>ACC</td>\n",
       "      <td>Not_Applicable</td>\n",
       "    </tr>\n",
       "    <tr>\n",
       "      <th>2</th>\n",
       "      <td>TCGA-OR-A5J3</td>\n",
       "      <td>TCGA-OR-A5J3-01</td>\n",
       "      <td>ACC</td>\n",
       "      <td>Not_Applicable</td>\n",
       "    </tr>\n",
       "    <tr>\n",
       "      <th>3</th>\n",
       "      <td>TCGA-OR-A5J5</td>\n",
       "      <td>TCGA-OR-A5J5-01</td>\n",
       "      <td>ACC</td>\n",
       "      <td>Not_Applicable</td>\n",
       "    </tr>\n",
       "    <tr>\n",
       "      <th>4</th>\n",
       "      <td>TCGA-OR-A5J6</td>\n",
       "      <td>TCGA-OR-A5J6-01</td>\n",
       "      <td>ACC</td>\n",
       "      <td>Not_Applicable</td>\n",
       "    </tr>\n",
       "  </tbody>\n",
       "</table>\n",
       "</div>"
      ],
      "text/plain": [
       "  PATIENT_BARCODE   SAMPLE_BARCODE DISEASE         SUBTYPE\n",
       "0    TCGA-OR-A5J1  TCGA-OR-A5J1-01     ACC  Not_Applicable\n",
       "1    TCGA-OR-A5J2  TCGA-OR-A5J2-01     ACC  Not_Applicable\n",
       "2    TCGA-OR-A5J3  TCGA-OR-A5J3-01     ACC  Not_Applicable\n",
       "3    TCGA-OR-A5J5  TCGA-OR-A5J5-01     ACC  Not_Applicable\n",
       "4    TCGA-OR-A5J6  TCGA-OR-A5J6-01     ACC  Not_Applicable"
      ]
     },
     "execution_count": 10,
     "metadata": {},
     "output_type": "execute_result"
    }
   ],
   "source": [
    "sample_freeze_df.head()"
   ]
  },
  {
   "cell_type": "markdown",
   "metadata": {},
   "source": [
    "### Load expression data\n",
    "\n",
    "We'll also subset to the top features by mean absolute deviation, if that option ."
   ]
  },
  {
   "cell_type": "code",
   "execution_count": 11,
   "metadata": {},
   "outputs": [
    {
     "name": "stdout",
     "output_type": "stream",
     "text": [
      "(11060, 15369)\n"
     ]
    },
    {
     "data": {
      "text/html": [
       "<div>\n",
       "<style scoped>\n",
       "    .dataframe tbody tr th:only-of-type {\n",
       "        vertical-align: middle;\n",
       "    }\n",
       "\n",
       "    .dataframe tbody tr th {\n",
       "        vertical-align: top;\n",
       "    }\n",
       "\n",
       "    .dataframe thead th {\n",
       "        text-align: right;\n",
       "    }\n",
       "</style>\n",
       "<table border=\"1\" class=\"dataframe\">\n",
       "  <thead>\n",
       "    <tr style=\"text-align: right;\">\n",
       "      <th></th>\n",
       "      <th>1</th>\n",
       "      <th>100</th>\n",
       "      <th>1000</th>\n",
       "      <th>10000</th>\n",
       "      <th>10001</th>\n",
       "    </tr>\n",
       "    <tr>\n",
       "      <th>sample_id</th>\n",
       "      <th></th>\n",
       "      <th></th>\n",
       "      <th></th>\n",
       "      <th></th>\n",
       "      <th></th>\n",
       "    </tr>\n",
       "  </thead>\n",
       "  <tbody>\n",
       "    <tr>\n",
       "      <th>TCGA-02-0047-01</th>\n",
       "      <td>125.0</td>\n",
       "      <td>136.0</td>\n",
       "      <td>2300.0</td>\n",
       "      <td>1300.0</td>\n",
       "      <td>272.0</td>\n",
       "    </tr>\n",
       "    <tr>\n",
       "      <th>TCGA-02-0055-01</th>\n",
       "      <td>392.0</td>\n",
       "      <td>222.0</td>\n",
       "      <td>1820.0</td>\n",
       "      <td>903.0</td>\n",
       "      <td>321.0</td>\n",
       "    </tr>\n",
       "    <tr>\n",
       "      <th>TCGA-02-2483-01</th>\n",
       "      <td>272.0</td>\n",
       "      <td>256.0</td>\n",
       "      <td>2890.0</td>\n",
       "      <td>1320.0</td>\n",
       "      <td>458.0</td>\n",
       "    </tr>\n",
       "    <tr>\n",
       "      <th>TCGA-02-2485-01</th>\n",
       "      <td>83.9</td>\n",
       "      <td>129.0</td>\n",
       "      <td>6970.0</td>\n",
       "      <td>10100.0</td>\n",
       "      <td>419.0</td>\n",
       "    </tr>\n",
       "    <tr>\n",
       "      <th>TCGA-02-2486-01</th>\n",
       "      <td>108.0</td>\n",
       "      <td>205.0</td>\n",
       "      <td>2250.0</td>\n",
       "      <td>873.0</td>\n",
       "      <td>441.0</td>\n",
       "    </tr>\n",
       "  </tbody>\n",
       "</table>\n",
       "</div>"
      ],
      "text/plain": [
       "                     1    100    1000    10000  10001\n",
       "sample_id                                            \n",
       "TCGA-02-0047-01  125.0  136.0  2300.0   1300.0  272.0\n",
       "TCGA-02-0055-01  392.0  222.0  1820.0    903.0  321.0\n",
       "TCGA-02-2483-01  272.0  256.0  2890.0   1320.0  458.0\n",
       "TCGA-02-2485-01   83.9  129.0  6970.0  10100.0  419.0\n",
       "TCGA-02-2486-01  108.0  205.0  2250.0    873.0  441.0"
      ]
     },
     "execution_count": 11,
     "metadata": {},
     "output_type": "execute_result"
    }
   ],
   "source": [
    "if data_type == 'gene expression':\n",
    "    exp_df = pd.read_csv(gene_expression_data_file, sep='\\t', index_col=0)\n",
    "elif data_type == 'rppa':\n",
    "    exp_df = pd.read_csv(rppa_data_file, sep='\\t', index_col=0)\n",
    "    \n",
    "print(exp_df.shape)\n",
    "exp_df.iloc[:5, :5]"
   ]
  },
  {
   "cell_type": "code",
   "execution_count": 12,
   "metadata": {},
   "outputs": [
    {
     "name": "stdout",
     "output_type": "stream",
     "text": [
      "(11060, 15369)\n"
     ]
    },
    {
     "data": {
      "text/html": [
       "<div>\n",
       "<style scoped>\n",
       "    .dataframe tbody tr th:only-of-type {\n",
       "        vertical-align: middle;\n",
       "    }\n",
       "\n",
       "    .dataframe tbody tr th {\n",
       "        vertical-align: top;\n",
       "    }\n",
       "\n",
       "    .dataframe thead th {\n",
       "        text-align: right;\n",
       "    }\n",
       "</style>\n",
       "<table border=\"1\" class=\"dataframe\">\n",
       "  <thead>\n",
       "    <tr style=\"text-align: right;\">\n",
       "      <th></th>\n",
       "      <th>1</th>\n",
       "      <th>100</th>\n",
       "      <th>1000</th>\n",
       "      <th>10000</th>\n",
       "      <th>10001</th>\n",
       "    </tr>\n",
       "    <tr>\n",
       "      <th>sample_id</th>\n",
       "      <th></th>\n",
       "      <th></th>\n",
       "      <th></th>\n",
       "      <th></th>\n",
       "      <th></th>\n",
       "    </tr>\n",
       "  </thead>\n",
       "  <tbody>\n",
       "    <tr>\n",
       "      <th>TCGA-02-0047-01</th>\n",
       "      <td>-0.144025</td>\n",
       "      <td>-0.206544</td>\n",
       "      <td>1.029891</td>\n",
       "      <td>0.643947</td>\n",
       "      <td>-0.730368</td>\n",
       "    </tr>\n",
       "    <tr>\n",
       "      <th>TCGA-02-0055-01</th>\n",
       "      <td>-0.124850</td>\n",
       "      <td>-0.132174</td>\n",
       "      <td>0.689587</td>\n",
       "      <td>0.153994</td>\n",
       "      <td>-0.406662</td>\n",
       "    </tr>\n",
       "    <tr>\n",
       "      <th>TCGA-02-2483-01</th>\n",
       "      <td>-0.133468</td>\n",
       "      <td>-0.102772</td>\n",
       "      <td>1.448180</td>\n",
       "      <td>0.668630</td>\n",
       "      <td>0.498391</td>\n",
       "    </tr>\n",
       "    <tr>\n",
       "      <th>TCGA-02-2485-01</th>\n",
       "      <td>-0.146976</td>\n",
       "      <td>-0.212598</td>\n",
       "      <td>4.340760</td>\n",
       "      <td>11.504372</td>\n",
       "      <td>0.240748</td>\n",
       "    </tr>\n",
       "    <tr>\n",
       "      <th>TCGA-02-2486-01</th>\n",
       "      <td>-0.145246</td>\n",
       "      <td>-0.146875</td>\n",
       "      <td>0.994442</td>\n",
       "      <td>0.116970</td>\n",
       "      <td>0.386085</td>\n",
       "    </tr>\n",
       "  </tbody>\n",
       "</table>\n",
       "</div>"
      ],
      "text/plain": [
       "                        1       100      1000      10000     10001\n",
       "sample_id                                                         \n",
       "TCGA-02-0047-01 -0.144025 -0.206544  1.029891   0.643947 -0.730368\n",
       "TCGA-02-0055-01 -0.124850 -0.132174  0.689587   0.153994 -0.406662\n",
       "TCGA-02-2483-01 -0.133468 -0.102772  1.448180   0.668630  0.498391\n",
       "TCGA-02-2485-01 -0.146976 -0.212598  4.340760  11.504372  0.240748\n",
       "TCGA-02-2486-01 -0.145246 -0.146875  0.994442   0.116970  0.386085"
      ]
     },
     "execution_count": 12,
     "metadata": {},
     "output_type": "execute_result"
    }
   ],
   "source": [
    "# standardize features first\n",
    "exp_df = pd.DataFrame(\n",
    "    StandardScaler().fit_transform(exp_df),\n",
    "    index=exp_df.index.copy(),\n",
    "    columns=exp_df.columns.copy()\n",
    ")\n",
    "print(exp_df.shape)\n",
    "exp_df.iloc[:5, :5]"
   ]
  },
  {
   "cell_type": "code",
   "execution_count": 13,
   "metadata": {},
   "outputs": [
    {
     "name": "stdout",
     "output_type": "stream",
     "text": [
      "['126695' '10053' '147798' '54845' '582']\n",
      "(11060, 10000)\n"
     ]
    },
    {
     "data": {
      "text/html": [
       "<div>\n",
       "<style scoped>\n",
       "    .dataframe tbody tr th:only-of-type {\n",
       "        vertical-align: middle;\n",
       "    }\n",
       "\n",
       "    .dataframe tbody tr th {\n",
       "        vertical-align: top;\n",
       "    }\n",
       "\n",
       "    .dataframe thead th {\n",
       "        text-align: right;\n",
       "    }\n",
       "</style>\n",
       "<table border=\"1\" class=\"dataframe\">\n",
       "  <thead>\n",
       "    <tr style=\"text-align: right;\">\n",
       "      <th></th>\n",
       "      <th>126695</th>\n",
       "      <th>10053</th>\n",
       "      <th>147798</th>\n",
       "      <th>54845</th>\n",
       "      <th>582</th>\n",
       "    </tr>\n",
       "    <tr>\n",
       "      <th>sample_id</th>\n",
       "      <th></th>\n",
       "      <th></th>\n",
       "      <th></th>\n",
       "      <th></th>\n",
       "      <th></th>\n",
       "    </tr>\n",
       "  </thead>\n",
       "  <tbody>\n",
       "    <tr>\n",
       "      <th>TCGA-02-0047-01</th>\n",
       "      <td>-1.312480</td>\n",
       "      <td>-1.124171</td>\n",
       "      <td>-0.980741</td>\n",
       "      <td>-1.115484</td>\n",
       "      <td>0.461693</td>\n",
       "    </tr>\n",
       "    <tr>\n",
       "      <th>TCGA-02-0055-01</th>\n",
       "      <td>-1.310389</td>\n",
       "      <td>-1.116947</td>\n",
       "      <td>-0.967446</td>\n",
       "      <td>-1.113075</td>\n",
       "      <td>-0.549801</td>\n",
       "    </tr>\n",
       "    <tr>\n",
       "      <th>TCGA-02-2483-01</th>\n",
       "      <td>-1.312480</td>\n",
       "      <td>-1.124171</td>\n",
       "      <td>-0.987583</td>\n",
       "      <td>-1.115567</td>\n",
       "      <td>-0.468503</td>\n",
       "    </tr>\n",
       "    <tr>\n",
       "      <th>TCGA-02-2485-01</th>\n",
       "      <td>-1.310706</td>\n",
       "      <td>-1.123449</td>\n",
       "      <td>-0.987619</td>\n",
       "      <td>-1.112268</td>\n",
       "      <td>1.104512</td>\n",
       "    </tr>\n",
       "    <tr>\n",
       "      <th>TCGA-02-2486-01</th>\n",
       "      <td>-1.310207</td>\n",
       "      <td>-1.124171</td>\n",
       "      <td>-0.986505</td>\n",
       "      <td>-1.115828</td>\n",
       "      <td>1.009980</td>\n",
       "    </tr>\n",
       "  </tbody>\n",
       "</table>\n",
       "</div>"
      ],
      "text/plain": [
       "                   126695     10053    147798     54845       582\n",
       "sample_id                                                        \n",
       "TCGA-02-0047-01 -1.312480 -1.124171 -0.980741 -1.115484  0.461693\n",
       "TCGA-02-0055-01 -1.310389 -1.116947 -0.967446 -1.113075 -0.549801\n",
       "TCGA-02-2483-01 -1.312480 -1.124171 -0.987583 -1.115567 -0.468503\n",
       "TCGA-02-2485-01 -1.310706 -1.123449 -0.987619 -1.112268  1.104512\n",
       "TCGA-02-2486-01 -1.310207 -1.124171 -0.986505 -1.115828  1.009980"
      ]
     },
     "execution_count": 13,
     "metadata": {},
     "output_type": "execute_result"
    }
   ],
   "source": [
    "# subset to subset_feats features by mean absolute deviation\n",
    "if subset_feats is not None:\n",
    "    mad_ranking = (\n",
    "        exp_df.mad(axis=0)\n",
    "               .sort_values(ascending=False)\n",
    "    )\n",
    "    top_feats = mad_ranking[:subset_feats].index.astype(str).values\n",
    "    print(top_feats[:5])\n",
    "    exp_df = exp_df.reindex(top_feats, axis='columns')\n",
    "    \n",
    "print(exp_df.shape)\n",
    "exp_df.iloc[:5, :5]"
   ]
  },
  {
   "cell_type": "markdown",
   "metadata": {},
   "source": [
    "### Get sample info and hit groups for gene/cancer type"
   ]
  },
  {
   "cell_type": "code",
   "execution_count": 14,
   "metadata": {},
   "outputs": [],
   "source": [
    "def get_hits_for_gene_and_tissue(identifier, cancer_classification):\n",
    "    \"\"\"Given a gene and tissue, load the relevant mutation/CNV information,\n",
    "    and divide the samples into groups to compare survival.\n",
    "    \"\"\"\n",
    "    # get patient ids in given cancer type \n",
    "    gene, tissue = identifier.split('_')\n",
    "    tissue_ids = (sample_freeze_df\n",
    "        .query('DISEASE == @tissue')\n",
    "        .SAMPLE_BARCODE\n",
    "    )\n",
    "    \n",
    "    # get mutation and copy status\n",
    "    mutation_status = mutation_df.loc[tissue_ids, gene]\n",
    "    if cancer_classification == 'TSG':\n",
    "        copy_status = copy_loss_df.loc[tissue_ids, gene]\n",
    "    elif cancer_classification == 'Oncogene':\n",
    "        copy_status = copy_gain_df.loc[tissue_ids, gene]\n",
    "        \n",
    "    # get hit groups from mutation/CNV data\n",
    "    two_hit_samples = (mutation_status & copy_status).astype(int)\n",
    "    one_hit_samples = (mutation_status | copy_status).astype(int)\n",
    "        \n",
    "    return pd.DataFrame(\n",
    "        {'group': one_hit_samples + two_hit_samples}\n",
    "    )"
   ]
  },
  {
   "cell_type": "code",
   "execution_count": 15,
   "metadata": {},
   "outputs": [
    {
     "name": "stdout",
     "output_type": "stream",
     "text": [
      "(507, 1)\n",
      "['wild-type' 'one-hit' 'two-hit']\n"
     ]
    },
    {
     "data": {
      "text/html": [
       "<div>\n",
       "<style scoped>\n",
       "    .dataframe tbody tr th:only-of-type {\n",
       "        vertical-align: middle;\n",
       "    }\n",
       "\n",
       "    .dataframe tbody tr th {\n",
       "        vertical-align: top;\n",
       "    }\n",
       "\n",
       "    .dataframe thead th {\n",
       "        text-align: right;\n",
       "    }\n",
       "</style>\n",
       "<table border=\"1\" class=\"dataframe\">\n",
       "  <thead>\n",
       "    <tr style=\"text-align: right;\">\n",
       "      <th></th>\n",
       "      <th>group</th>\n",
       "    </tr>\n",
       "  </thead>\n",
       "  <tbody>\n",
       "    <tr>\n",
       "      <th>TCGA-CS-6669-01</th>\n",
       "      <td>wild-type</td>\n",
       "    </tr>\n",
       "    <tr>\n",
       "      <th>TCGA-CS-4938-01</th>\n",
       "      <td>one-hit</td>\n",
       "    </tr>\n",
       "    <tr>\n",
       "      <th>TCGA-CS-4941-01</th>\n",
       "      <td>wild-type</td>\n",
       "    </tr>\n",
       "    <tr>\n",
       "      <th>TCGA-CS-4942-01</th>\n",
       "      <td>one-hit</td>\n",
       "    </tr>\n",
       "    <tr>\n",
       "      <th>TCGA-CS-4943-01</th>\n",
       "      <td>one-hit</td>\n",
       "    </tr>\n",
       "  </tbody>\n",
       "</table>\n",
       "</div>"
      ],
      "text/plain": [
       "                     group\n",
       "TCGA-CS-6669-01  wild-type\n",
       "TCGA-CS-4938-01    one-hit\n",
       "TCGA-CS-4941-01  wild-type\n",
       "TCGA-CS-4942-01    one-hit\n",
       "TCGA-CS-4943-01    one-hit"
      ]
     },
     "execution_count": 15,
     "metadata": {},
     "output_type": "execute_result"
    }
   ],
   "source": [
    "identifier = 'IDH1_LGG'\n",
    "cancer_classification = 'Oncogene'\n",
    "\n",
    "sample_mut_df = get_hits_for_gene_and_tissue(identifier, cancer_classification)\n",
    "\n",
    "# make sure sample data overlaps exactly with expression data\n",
    "overlap_ixs = sample_mut_df.index.intersection(exp_df.index)\n",
    "sample_mut_df = sample_mut_df.loc[overlap_ixs, :].copy()\n",
    "exp_df = exp_df.loc[overlap_ixs, :].copy()\n",
    "\n",
    "# add group info for legends\n",
    "sample_mut_df['group'] = sample_mut_df.group.map({\n",
    "    0: 'wild-type',\n",
    "    1: 'one-hit',\n",
    "    2: 'two-hit'\n",
    "})\n",
    "\n",
    "print(sample_mut_df.shape)\n",
    "print(sample_mut_df.group.unique())\n",
    "sample_mut_df.iloc[:5, :5]"
   ]
  },
  {
   "cell_type": "markdown",
   "metadata": {},
   "source": [
    "### Plot samples by hit group"
   ]
  },
  {
   "cell_type": "code",
   "execution_count": 16,
   "metadata": {},
   "outputs": [
    {
     "name": "stdout",
     "output_type": "stream",
     "text": [
      "(507, 2)\n"
     ]
    },
    {
     "data": {
      "text/plain": [
       "array([[ 70.2310656 , 100.77223522],\n",
       "       [ -5.72402313,  -5.49102171],\n",
       "       [-15.47242329,  -0.62594854],\n",
       "       [  2.69242384,  -8.31427562],\n",
       "       [  7.11252464, -33.41292804]])"
      ]
     },
     "execution_count": 16,
     "metadata": {},
     "output_type": "execute_result"
    }
   ],
   "source": [
    "from sklearn.decomposition import PCA\n",
    "\n",
    "pca = PCA(n_components=2)\n",
    "\n",
    "X_proj_pca = pca.fit_transform(exp_df)\n",
    "\n",
    "print(X_proj_pca.shape)\n",
    "X_proj_pca[:5, :5]"
   ]
  },
  {
   "cell_type": "code",
   "execution_count": 17,
   "metadata": {},
   "outputs": [
    {
     "data": {
      "text/plain": [
       "Text(0, 0.5, 'PC2')"
      ]
     },
     "execution_count": 17,
     "metadata": {},
     "output_type": "execute_result"
    },
    {
     "data": {
      "image/png": "[encoded data removed]",
      "text/plain": [
       "<Figure size 576x432 with 1 Axes>"
      ]
     },
     "metadata": {},
     "output_type": "display_data"
    }
   ],
   "source": [
    "sns.set({'figure.figsize': (8, 6)})\n",
    "\n",
    "sns.scatterplot(x=X_proj_pca[:, 0],\n",
    "                y=X_proj_pca[:, 1],\n",
    "                hue=sample_mut_df.group)\n",
    "\n",
    "plt.title('PCA of {} {} features, colored by {} status'.format(\n",
    "    subset_feats, data_type, identifier))\n",
    "plt.xlabel('PC1')\n",
    "plt.ylabel('PC2')"
   ]
  },
  {
   "cell_type": "code",
   "execution_count": 18,
   "metadata": {},
   "outputs": [
    {
     "name": "stderr",
     "output_type": "stream",
     "text": [
      "/home/jake/anaconda3/envs/mutation_fn/lib/python3.8/site-packages/tqdm/auto.py:22: TqdmWarning: IProgress not found. Please update jupyter and ipywidgets. See https://ipywidgets.readthedocs.io/en/stable/user_install.html\n",
      "  from .autonotebook import tqdm as notebook_tqdm\n"
     ]
    },
    {
     "name": "stdout",
     "output_type": "stream",
     "text": [
      "(507, 2)\n"
     ]
    },
    {
     "data": {
      "text/plain": [
       "array([[ 5.592694,  4.120277],\n",
       "       [ 9.03526 ,  9.526029],\n",
       "       [ 8.659716,  6.640526],\n",
       "       [ 9.346365,  9.929928],\n",
       "       [ 8.895314, 11.924898]], dtype=float32)"
      ]
     },
     "execution_count": 18,
     "metadata": {},
     "output_type": "execute_result"
    }
   ],
   "source": [
    "from umap import UMAP\n",
    "\n",
    "reducer = UMAP(n_components=2, random_state=42)\n",
    "\n",
    "X_proj_umap = reducer.fit_transform(exp_df)\n",
    "\n",
    "print(X_proj_umap.shape)\n",
    "X_proj_umap[:5, :5]"
   ]
  },
  {
   "cell_type": "code",
   "execution_count": 19,
   "metadata": {},
   "outputs": [
    {
     "data": {
      "text/plain": [
       "Text(0, 0.5, 'UMAP2')"
      ]
     },
     "execution_count": 19,
     "metadata": {},
     "output_type": "execute_result"
    },
    {
     "data": {
      "image/png": "[encoded data removed]",
      "text/plain": [
       "<Figure size 576x432 with 1 Axes>"
      ]
     },
     "metadata": {},
     "output_type": "display_data"
    }
   ],
   "source": [
    "sns.set({'figure.figsize': (8, 6)})\n",
    "\n",
    "sns.scatterplot(x=X_proj_umap[:, 0],\n",
    "                y=X_proj_umap[:, 1],\n",
    "                hue=sample_mut_df.group)\n",
    "\n",
    "plt.title('UMAP of {} {} features, colored by {} status'.format(\n",
    "    subset_feats, data_type, identifier))\n",
    "plt.xlabel('UMAP1')\n",
    "plt.ylabel('UMAP2')"
   ]
  }
 ],
 "metadata": {
  "kernelspec": {
   "display_name": "Python [conda env:mutation_fn]",
   "language": "python",
   "name": "conda-env-mutation_fn-py"
  },
  "language_info": {
   "codemirror_mode": {
    "name": "ipython",
    "version": 3
   },
   "file_extension": ".py",
   "mimetype": "text/x-python",
   "name": "python",
   "nbconvert_exporter": "python",
   "pygments_lexer": "ipython3",
   "version": "3.8.0"
  }
 },
 "nbformat": 4,
 "nbformat_minor": 4
}
