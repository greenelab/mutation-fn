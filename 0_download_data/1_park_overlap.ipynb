{
 "cells": [
  {
   "cell_type": "code",
   "execution_count": 1,
   "metadata": {},
   "outputs": [],
   "source": [
    "from pathlib import Path\n",
    "\n",
    "import pandas as pd\n",
    "import seaborn as sns\n",
    "import matplotlib.pyplot as plt\n",
    "from matplotlib_venn import venn2, venn2_unweighted\n",
    "\n",
    "import sys; sys.path.append('..')\n",
    "import config as cfg"
   ]
  },
  {
   "cell_type": "markdown",
   "metadata": {},
   "source": [
    "### Load Vogelstein and Park gene info"
   ]
  },
  {
   "cell_type": "code",
   "execution_count": 2,
   "metadata": {},
   "outputs": [
    {
     "name": "stdout",
     "output_type": "stream",
     "text": [
      "https://github.com/greenelab/pancancer/raw/2a0683b68017fb226f4053e63415e4356191734f/data/vogelstein_cancergenes.tsv\n"
     ]
    }
   ],
   "source": [
    "vogelstein_genes = '/'.join([\n",
    "    cfg.vogelstein_base_url,\n",
    "    cfg.vogelstein_commit,\n",
    "    'data',\n",
    "    'vogelstein_cancergenes.tsv'\n",
    "])\n",
    "print(vogelstein_genes)"
   ]
  },
  {
   "cell_type": "code",
   "execution_count": 3,
   "metadata": {},
   "outputs": [
    {
     "data": {
      "text/html": [
       "<div>\n",
       "<style scoped>\n",
       "    .dataframe tbody tr th:only-of-type {\n",
       "        vertical-align: middle;\n",
       "    }\n",
       "\n",
       "    .dataframe tbody tr th {\n",
       "        vertical-align: top;\n",
       "    }\n",
       "\n",
       "    .dataframe thead th {\n",
       "        text-align: right;\n",
       "    }\n",
       "</style>\n",
       "<table border=\"1\" class=\"dataframe\">\n",
       "  <thead>\n",
       "    <tr style=\"text-align: right;\">\n",
       "      <th></th>\n",
       "      <th>gene</th>\n",
       "      <th>Gene Name</th>\n",
       "      <th># Mutated Tumor Samples**</th>\n",
       "      <th>Ocogene score*</th>\n",
       "      <th>Tumor Suppressor Gene score*</th>\n",
       "      <th>classification</th>\n",
       "      <th>Core pathway</th>\n",
       "      <th>Process</th>\n",
       "    </tr>\n",
       "  </thead>\n",
       "  <tbody>\n",
       "    <tr>\n",
       "      <th>0</th>\n",
       "      <td>ABL1</td>\n",
       "      <td>c-abl oncogene 1, receptor tyrosine kinase</td>\n",
       "      <td>851</td>\n",
       "      <td>0.926904</td>\n",
       "      <td>0.003046</td>\n",
       "      <td>Oncogene</td>\n",
       "      <td>Cell Cycle/Apoptosis</td>\n",
       "      <td>Cell Survival</td>\n",
       "    </tr>\n",
       "    <tr>\n",
       "      <th>1</th>\n",
       "      <td>ACVR1B</td>\n",
       "      <td>activin A receptor, type IB</td>\n",
       "      <td>17</td>\n",
       "      <td>0.000000</td>\n",
       "      <td>0.423077</td>\n",
       "      <td>TSG</td>\n",
       "      <td>TGF-b</td>\n",
       "      <td>Cell Survival</td>\n",
       "    </tr>\n",
       "    <tr>\n",
       "      <th>2</th>\n",
       "      <td>AKT1</td>\n",
       "      <td>v-akt murine thymoma viral oncogene homolog 1</td>\n",
       "      <td>155</td>\n",
       "      <td>0.929487</td>\n",
       "      <td>0.006410</td>\n",
       "      <td>Oncogene</td>\n",
       "      <td>PI3K</td>\n",
       "      <td>Cell Survival</td>\n",
       "    </tr>\n",
       "    <tr>\n",
       "      <th>3</th>\n",
       "      <td>ALK</td>\n",
       "      <td>anaplastic lymphoma receptor tyrosine kinase</td>\n",
       "      <td>189</td>\n",
       "      <td>0.720000</td>\n",
       "      <td>0.010000</td>\n",
       "      <td>Oncogene</td>\n",
       "      <td>PI3K; RAS</td>\n",
       "      <td>Cell Survival</td>\n",
       "    </tr>\n",
       "    <tr>\n",
       "      <th>4</th>\n",
       "      <td>APC</td>\n",
       "      <td>adenomatous polyposis coli</td>\n",
       "      <td>2561</td>\n",
       "      <td>0.024553</td>\n",
       "      <td>0.917222</td>\n",
       "      <td>TSG</td>\n",
       "      <td>APC</td>\n",
       "      <td>Cell Fate</td>\n",
       "    </tr>\n",
       "  </tbody>\n",
       "</table>\n",
       "</div>"
      ],
      "text/plain": [
       "     gene                                      Gene Name  \\\n",
       "0    ABL1     c-abl oncogene 1, receptor tyrosine kinase   \n",
       "1  ACVR1B                    activin A receptor, type IB   \n",
       "2    AKT1  v-akt murine thymoma viral oncogene homolog 1   \n",
       "3     ALK   anaplastic lymphoma receptor tyrosine kinase   \n",
       "4     APC                     adenomatous polyposis coli   \n",
       "\n",
       "   # Mutated Tumor Samples**  Ocogene score*   Tumor Suppressor Gene score*   \\\n",
       "0                        851         0.926904                       0.003046   \n",
       "1                         17         0.000000                       0.423077   \n",
       "2                        155         0.929487                       0.006410   \n",
       "3                        189         0.720000                       0.010000   \n",
       "4                       2561         0.024553                       0.917222   \n",
       "\n",
       "  classification          Core pathway        Process  \n",
       "0       Oncogene  Cell Cycle/Apoptosis  Cell Survival  \n",
       "1            TSG                TGF-b   Cell Survival  \n",
       "2       Oncogene                  PI3K  Cell Survival  \n",
       "3       Oncogene             PI3K; RAS  Cell Survival  \n",
       "4            TSG                   APC      Cell Fate  "
      ]
     },
     "execution_count": 3,
     "metadata": {},
     "output_type": "execute_result"
    }
   ],
   "source": [
    "vogelstein_df = (\n",
    "    pd.read_csv(vogelstein_genes, sep='\\t')\n",
    "      .rename(columns={'Gene Symbol'   : 'gene',\n",
    "                       'Classification*': 'classification'})\n",
    ")\n",
    "vogelstein_df.head()"
   ]
  },
  {
   "cell_type": "code",
   "execution_count": 4,
   "metadata": {},
   "outputs": [
    {
     "data": {
      "text/html": [
       "<div>\n",
       "<style scoped>\n",
       "    .dataframe tbody tr th:only-of-type {\n",
       "        vertical-align: middle;\n",
       "    }\n",
       "\n",
       "    .dataframe tbody tr th {\n",
       "        vertical-align: top;\n",
       "    }\n",
       "\n",
       "    .dataframe thead th {\n",
       "        text-align: right;\n",
       "    }\n",
       "</style>\n",
       "<table border=\"1\" class=\"dataframe\">\n",
       "  <thead>\n",
       "    <tr style=\"text-align: right;\">\n",
       "      <th></th>\n",
       "      <th>Pair</th>\n",
       "      <th>Gene</th>\n",
       "      <th>Tissue</th>\n",
       "      <th>Effect</th>\n",
       "      <th>Pval</th>\n",
       "      <th>FDR</th>\n",
       "      <th>LogFDR</th>\n",
       "      <th>Target</th>\n",
       "    </tr>\n",
       "  </thead>\n",
       "  <tbody>\n",
       "    <tr>\n",
       "      <th>0</th>\n",
       "      <td>AJUBA_HNSC</td>\n",
       "      <td>AJUBA</td>\n",
       "      <td>HNSC</td>\n",
       "      <td>-0.936050</td>\n",
       "      <td>8.732955e-03</td>\n",
       "      <td>0.045816</td>\n",
       "      <td>1.338886</td>\n",
       "      <td>A_Hit</td>\n",
       "    </tr>\n",
       "    <tr>\n",
       "      <th>1</th>\n",
       "      <td>ARID1A_LGG</td>\n",
       "      <td>ARID1A</td>\n",
       "      <td>LGG</td>\n",
       "      <td>-0.904202</td>\n",
       "      <td>1.956617e-02</td>\n",
       "      <td>0.076291</td>\n",
       "      <td>1.117471</td>\n",
       "      <td>A_Hit</td>\n",
       "    </tr>\n",
       "    <tr>\n",
       "      <th>2</th>\n",
       "      <td>ARID1A_STAD</td>\n",
       "      <td>ARID1A</td>\n",
       "      <td>STAD</td>\n",
       "      <td>1.133548</td>\n",
       "      <td>3.979932e-04</td>\n",
       "      <td>0.000294</td>\n",
       "      <td>3.517309</td>\n",
       "      <td>B_Target</td>\n",
       "    </tr>\n",
       "    <tr>\n",
       "      <th>3</th>\n",
       "      <td>ARID1A_UCEC</td>\n",
       "      <td>ARID1A</td>\n",
       "      <td>UCEC</td>\n",
       "      <td>1.597876</td>\n",
       "      <td>3.451937e-07</td>\n",
       "      <td>0.000000</td>\n",
       "      <td>5.000000</td>\n",
       "      <td>B_Target</td>\n",
       "    </tr>\n",
       "    <tr>\n",
       "      <th>4</th>\n",
       "      <td>ARID2_LIHC</td>\n",
       "      <td>ARID2</td>\n",
       "      <td>LIHC</td>\n",
       "      <td>-0.978419</td>\n",
       "      <td>1.019284e-02</td>\n",
       "      <td>0.050276</td>\n",
       "      <td>1.298552</td>\n",
       "      <td>A_Hit</td>\n",
       "    </tr>\n",
       "  </tbody>\n",
       "</table>\n",
       "</div>"
      ],
      "text/plain": [
       "          Pair    Gene Tissue    Effect          Pval       FDR    LogFDR  \\\n",
       "0   AJUBA_HNSC   AJUBA   HNSC -0.936050  8.732955e-03  0.045816  1.338886   \n",
       "1   ARID1A_LGG  ARID1A    LGG -0.904202  1.956617e-02  0.076291  1.117471   \n",
       "2  ARID1A_STAD  ARID1A   STAD  1.133548  3.979932e-04  0.000294  3.517309   \n",
       "3  ARID1A_UCEC  ARID1A   UCEC  1.597876  3.451937e-07  0.000000  5.000000   \n",
       "4   ARID2_LIHC   ARID2   LIHC -0.978419  1.019284e-02  0.050276  1.298552   \n",
       "\n",
       "     Target  \n",
       "0     A_Hit  \n",
       "1     A_Hit  \n",
       "2  B_Target  \n",
       "3  B_Target  \n",
       "4     A_Hit  "
      ]
     },
     "execution_count": 4,
     "metadata": {},
     "output_type": "execute_result"
    }
   ],
   "source": [
    "park_loss_df = pd.read_csv(cfg.data_dir / 'park_loss_df.tsv', sep='\\t')\n",
    "park_loss_df.head()"
   ]
  },
  {
   "cell_type": "code",
   "execution_count": 5,
   "metadata": {},
   "outputs": [
    {
     "data": {
      "text/html": [
       "<div>\n",
       "<style scoped>\n",
       "    .dataframe tbody tr th:only-of-type {\n",
       "        vertical-align: middle;\n",
       "    }\n",
       "\n",
       "    .dataframe tbody tr th {\n",
       "        vertical-align: top;\n",
       "    }\n",
       "\n",
       "    .dataframe thead th {\n",
       "        text-align: right;\n",
       "    }\n",
       "</style>\n",
       "<table border=\"1\" class=\"dataframe\">\n",
       "  <thead>\n",
       "    <tr style=\"text-align: right;\">\n",
       "      <th></th>\n",
       "      <th>Pair</th>\n",
       "      <th>Gene</th>\n",
       "      <th>Tissue</th>\n",
       "      <th>Effect</th>\n",
       "      <th>Pval</th>\n",
       "      <th>FDR</th>\n",
       "      <th>LogFDR</th>\n",
       "      <th>Target</th>\n",
       "    </tr>\n",
       "  </thead>\n",
       "  <tbody>\n",
       "    <tr>\n",
       "      <th>0</th>\n",
       "      <td>ARID1A_UCEC</td>\n",
       "      <td>ARID1A</td>\n",
       "      <td>UCEC</td>\n",
       "      <td>-2.351526</td>\n",
       "      <td>1.154365e-03</td>\n",
       "      <td>-0.000447</td>\n",
       "      <td>3.340299</td>\n",
       "      <td>B_Target</td>\n",
       "    </tr>\n",
       "    <tr>\n",
       "      <th>1</th>\n",
       "      <td>ATRX_LGG</td>\n",
       "      <td>ATRX</td>\n",
       "      <td>LGG</td>\n",
       "      <td>1.440987</td>\n",
       "      <td>4.025141e-08</td>\n",
       "      <td>0.000000</td>\n",
       "      <td>5.000000</td>\n",
       "      <td>A_Hit</td>\n",
       "    </tr>\n",
       "    <tr>\n",
       "      <th>2</th>\n",
       "      <td>BRAF_SKCM</td>\n",
       "      <td>BRAF</td>\n",
       "      <td>SKCM</td>\n",
       "      <td>1.239939</td>\n",
       "      <td>2.042839e-11</td>\n",
       "      <td>0.000000</td>\n",
       "      <td>5.000000</td>\n",
       "      <td>A_Hit</td>\n",
       "    </tr>\n",
       "    <tr>\n",
       "      <th>3</th>\n",
       "      <td>BRAF_THCA</td>\n",
       "      <td>BRAF</td>\n",
       "      <td>THCA</td>\n",
       "      <td>-2.449684</td>\n",
       "      <td>7.509064e-04</td>\n",
       "      <td>-0.000209</td>\n",
       "      <td>3.659041</td>\n",
       "      <td>B_Target</td>\n",
       "    </tr>\n",
       "    <tr>\n",
       "      <th>4</th>\n",
       "      <td>CTNNB1_UCEC</td>\n",
       "      <td>CTNNB1</td>\n",
       "      <td>UCEC</td>\n",
       "      <td>-1.257861</td>\n",
       "      <td>1.597968e-02</td>\n",
       "      <td>0.096292</td>\n",
       "      <td>1.016366</td>\n",
       "      <td>B_Target</td>\n",
       "    </tr>\n",
       "  </tbody>\n",
       "</table>\n",
       "</div>"
      ],
      "text/plain": [
       "          Pair    Gene Tissue    Effect          Pval       FDR    LogFDR  \\\n",
       "0  ARID1A_UCEC  ARID1A   UCEC -2.351526  1.154365e-03 -0.000447  3.340299   \n",
       "1     ATRX_LGG    ATRX    LGG  1.440987  4.025141e-08  0.000000  5.000000   \n",
       "2    BRAF_SKCM    BRAF   SKCM  1.239939  2.042839e-11  0.000000  5.000000   \n",
       "3    BRAF_THCA    BRAF   THCA -2.449684  7.509064e-04 -0.000209  3.659041   \n",
       "4  CTNNB1_UCEC  CTNNB1   UCEC -1.257861  1.597968e-02  0.096292  1.016366   \n",
       "\n",
       "     Target  \n",
       "0  B_Target  \n",
       "1     A_Hit  \n",
       "2     A_Hit  \n",
       "3  B_Target  \n",
       "4  B_Target  "
      ]
     },
     "execution_count": 5,
     "metadata": {},
     "output_type": "execute_result"
    }
   ],
   "source": [
    "park_gain_df = pd.read_csv(cfg.data_dir / 'park_gain_df.tsv', sep='\\t')\n",
    "park_gain_df.head()"
   ]
  },
  {
   "cell_type": "markdown",
   "metadata": {},
   "source": [
    "### Look at overlap between Park and Vogelstein genes"
   ]
  },
  {
   "cell_type": "code",
   "execution_count": 6,
   "metadata": {},
   "outputs": [],
   "source": [
    "sns.set_style('white')\n",
    "\n",
    "park_loss_genes = set(park_loss_df.Gene.unique())\n",
    "vogelstein_genes = set(vogelstein_df.gene.unique())\n",
    "\n",
    "venn2_unweighted([park_loss_genes, vogelstein_genes], ['Park (loss)', 'Vogelstein'])\n",
    "plt.title('Park/Vogelstein gene set overlap')"
   ]
  },
  {
   "cell_type": "code",
   "execution_count": 8,
   "metadata": {},
   "outputs": [
    {
     "name": "stdout",
     "output_type": "stream",
     "text": [
      "15\n",
      "{'BRD7', 'ZNF750', 'KEAP1', 'PTPDC1', 'CTCF', 'AJUBA', 'ZFHX3', 'CUL3', 'FAT1', 'SIN3A', 'PSIP1', 'MAP2K4', 'TSC2', 'NSD1', 'EPAS1'}\n"
     ]
    }
   ],
   "source": [
    "print(len(park_loss_genes - vogelstein_genes))\n",
    "print(park_loss_genes - vogelstein_genes)"
   ]
  },
  {
   "cell_type": "code",
   "execution_count": 7,
   "metadata": {},
   "outputs": [
    {
     "data": {
      "text/plain": [
       "Text(0.5, 1.0, 'Park/Vogelstein gene set overlap')"
      ]
     },
     "execution_count": 7,
     "metadata": {},
     "output_type": "execute_result"
    },
    {
     "data": {
      "image/png": "[encoded data removed]",
      "text/plain": [
       "<Figure size 432x288 with 1 Axes>"
      ]
     },
     "metadata": {},
     "output_type": "display_data"
    }
   ],
   "source": [
    "sns.set_style('white')\n",
    "\n",
    "park_gain_genes = set(park_gain_df.Gene.unique())\n",
    "vogelstein_genes = set(vogelstein_df.gene.unique())\n",
    "\n",
    "venn2_unweighted([park_gain_genes, vogelstein_genes], ['Park (gain)', 'Vogelstein'])\n",
    "plt.title('Park/Vogelstein gene set overlap')"
   ]
  },
  {
   "cell_type": "code",
   "execution_count": 9,
   "metadata": {},
   "outputs": [
    {
     "name": "stdout",
     "output_type": "stream",
     "text": [
      "4\n",
      "{'ERBB4', 'KMT2B', 'EPAS1', 'CUL3'}\n"
     ]
    }
   ],
   "source": [
    "print(len(park_gain_genes - vogelstein_genes))\n",
    "print(park_gain_genes - vogelstein_genes)"
   ]
  }
 ],
 "metadata": {
  "kernelspec": {
   "display_name": "Python [conda env:lure_fn]",
   "language": "python",
   "name": "conda-env-lure_fn-py"
  },
  "language_info": {
   "codemirror_mode": {
    "name": "ipython",
    "version": 3
   },
   "file_extension": ".py",
   "mimetype": "text/x-python",
   "name": "python",
   "nbconvert_exporter": "python",
   "pygments_lexer": "ipython3",
   "version": "3.8.0"
  }
 },
 "nbformat": 4,
 "nbformat_minor": 4
}
